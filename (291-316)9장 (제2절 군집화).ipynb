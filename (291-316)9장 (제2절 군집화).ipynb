{
 "cells": [
  {
   "cell_type": "raw",
   "id": "1cf20cc0-7c2a-4457-b66e-992a3a9c0816",
   "metadata": {},
   "source": [
    "#291"
   ]
  },
  {
   "cell_type": "markdown",
   "id": "77b03f1c-6562-4987-ae89-9810b45079f5",
   "metadata": {},
   "source": [
    "# 2절 군집화\n",
    "## 1. K-평균 군집화\n",
    "### 1) K-평균 군집화 이해하기\n",
    "K-평균 군집화(K-Means Clustering)는 알고리즘 동작 원리가 단순하기 때문에 많이 사용하는 비지도학습 방법입니다. 알고리즘 동작 방식을 살펴보기 전에 군집화가 무엇인지 알아봅니다. 군집(Cluster)은 비슷한 요소들을 묶어놓은 단위체이며, 군집화(Clustering)는 비슷한 요소들을 묶는 것을 의미합니다. 군집화는 데이터 내 자연스러운 그룹을 자동으로 검색하는 작업을 포함합니다. 일반적으로 시각화 가능한 차원의 데이터(2c차원 또는 3차원)가 제공되면, 사람의 눈은 매우 쉽게 별개의 군집을 구분할 수 있습니다. 다음과 같은 20개의 데이터 포인트가 있을 경우, 데이터가 3개의 범주에 속하는 것을 시각적으로 알 수 있습니다. \n",
    "\n",
    "\n",
    "\n",
    "\n",
    "\n",
    "\n",
    "그러나 기계가 한 번에 군집을 구분하는 것은 쉽지 않기 때문에 군집화 알고리즘이 등장했습니다. 이때 군집화 알고리즘은 인간의 눈으로 볼 수 없는 고차원의 데이터도 군집화할 수 있습니다. 군집화 알고리즘 중 대표적인 것으로 K-평균 군집화가 있습니다. <BR>\n",
    "K-평균 군집화 알고리즘은 K개의 군집을 나누기 위해 각 군집의 중심과 데이터 간의 평균 거리를 활용합니다. 따라서 군집 내 거리 계산의 기준이 될 점을 K개로 설정하고, 해당 점에서 다른 데이터 간의 거리를 계산합니다. 이때 최종 군집의 기준점은 보통 클러스터의 중심에 위치하기 때문에 센트로이드(Centroid, 클러스터 중심점)라고 부릅니다. K-평균 군집화는 데이터 간 거리가 가까운 데이터를 비슷한 특징을 가진 데이터로 간주하여 기준점과 다른 데이터 간의 거리가 최소화되는 점을 찾아나가면서 군집화합니다. 즉, 각 군집 내 분산을 최소화하는 것을 목적으로 군집화를 진행합니다. "
   ]
  },
  {
   "cell_type": "markdown",
   "id": "f9381684-45ad-40c5-9ae7-26161ff0efa6",
   "metadata": {},
   "source": [
    "#292"
   ]
  },
  {
   "cell_type": "markdown",
   "id": "9ce70351-0664-4793-a42b-107f104afc80",
   "metadata": {},
   "source": [
    "### 2) K-평균 군집화 알고리즘 작동 방식 이해하기\n",
    "K-평균 군집화 알고리즘의 작동 방식은 다음과 같습니다. \n",
    "\n",
    "■ 1단계：군집화할 군집의 수 K를 선택합니다. \n",
    "식별하려는 군집 수는 K-평균 군집화의 K입니다. 3개의 군집을 가정하고 K=3으로 합니다. \n",
    "\n",
    "■ 2단계：임의로 K개의 기준점을 선택합니다. \n",
    "임의로 3개의 기준점을 선택하여 군집을 찾는 프로세스를 시작합니다. 이 포인트들은 우리가 만들 군집의 중심(centroid) 역할을 합니다. \n",
    "\n",
    "■ 3단계：K개의 군집을 만듭니다. \n",
    "군집을 만들기 위해 먼저 각 데이터 포인트에서 3개의 중심까지 거리를 측정하여 가장 가까운 군집에 포인트를 할당합니다. 아래 그림을 보면 선택한 샘플 데이터 포인트에서 파란색 중심까지 거리가 가장 짧은 것을 알 수 있으므로 샘플 데이터를 파란색 군집에 할당합니다. 2차원에서 두 점 사이의 거리를 구하는 공식은 다음과 같습니다. \n",
    "\r\n",
    "\r\n",
    "$$ d = \\sqrt{(x_2 - x_1)^2 + (y_2 - y_1)^2} $$\r\n",
    "\n",
    "\n",
    "거리를 구하는 공식을 사용하여 나머지 포인트에 대해 이 프로세스를 반복하면 군집이 다음과 같이 표시됩니다. "
   ]
  },
  {
   "cell_type": "markdown",
   "id": "cefc2457-dd46-4923-8472-4e87fe37961c",
   "metadata": {},
   "source": [
    "#293"
   ]
  },
  {
   "cell_type": "markdown",
   "id": "5a13a7cb-2b42-4228-94b3-4231863e5fa0",
   "metadata": {},
   "source": [
    "■ 4단계：각 군집의 새 중심을 계산합니다.<br> \n",
    "3개의 군집이 있으므로 각각에 의해 형성된 새로운 중심을 찾습니다. 예를 들어 파란색 군집의 중심 좌표를 계산하는 방법은 다음과 같습니다. \n",
    "\n",
    "■ 5단계：각 군집의 품질 평가를 합니다.<br>\n",
    "모든 군집 내의 분산을 찾아 군집화의 품질을 측정합니다. K-평균 군집화의 기본 아이디어는 군집 내 분산이 최소화되도록 군집을 정의하는 것입니다. 이 분산을 정량화하기 위해 WCSS를 계산합니다. <br>\n",
    "\n",
    "\n",
    "\n",
    "■ 6단계：위 3-5단계를 반복합니다.<br> \n",
    "위 3-5단계를 중심이 변경되지 않을 때까지 계손 반복하여 K개로 분류된 그룹을 만듭니다. 이 때 문제는 K를 몇 개로 지정해야 하는가입니다. 엘보우(Elbow) 방법으로 군집의 개수 K를 찾을 수 있습니다. 군집 중심과 군집에 속한 샘플 사이 거리의 제곱합을 이너셔(Inertia)라고 합니다. 이너셔는 군집에 속한 샘플이 얼마나 가깝게 모여 있는지를 나타내는 값입니다. <br>\n",
    "일반적으로 군집의 개수가 늘어나면 군집 각각의 크기는 줄어들기 때문에 이너셔도 함께 줄어듭니다. 엘보우 방법은 군집 개수를 늘려가면서 이너셔의 변화를 관찰하여 K를 찾는 것입니다. 군집 개수를 늘려서 이너셔를 그래프로 그리면 감소하는 속도가 꺾이는 지점이 있습니다. 그래프에서 화살표 지점이 바로 최적의 군집 개수입니다. "
   ]
  },
  {
   "cell_type": "markdown",
   "id": "0f259710-b8c3-4229-b5c3-820ab3f48bf8",
   "metadata": {},
   "source": [
    "### 3) K-평균 군집화 실습하기\r\n",
    "k-평균 군집화 알고리즘은 사이킷런 라이브러리의 cluster 서브패키지에서 제공하는 KMeans를 클래스를 활용할 수 있습니다. KMeans 클래스는 다음과 같은 파라미터를 입력받습니다.\n",
    "> 하이퍼파라미터\n",
    "> <div class=\"alert alert-block\" style=\"border: 2px solid #1976D2;background-color:#E3F2FD;padding:5px;font-size:0.9em;\">\n",
    "    * n_clus：클러스터의 개수(기준점의 개수)<br>\n",
    "    * n_estimators：단일 실행에 대한 K-평균 군집화 알고리즘의 최대 반복 횟수</div>\n",
    "\n",
    "군집화가 끝나면 객체는 다음 속성을 가집니다.\n",
    "* labels_：군집 번호\n",
    "* cluster_centers : 군집별 기준점의 좌표\n",
    "\n",
    "K-평균 군집화 알고리즘의 간단한 코드는 다음과 같습니다. 실질적인 학습을 위해 본 장의 마지막에 'K-평균 군집화 알고리즘을 이용한 고객 세분화 실습'을 진행합니다.  "
   ]
  },
  {
   "cell_type": "code",
   "execution_count": 2,
   "id": "7da5588b-1d7f-4636-8034-ad876287417c",
   "metadata": {},
   "outputs": [
    {
     "name": "stdout",
     "output_type": "stream",
     "text": [
      "[1 1 1 0 0 0]\n",
      "[1 0]\n",
      "[[10.  2.]\n",
      " [ 1.  2.]]\n"
     ]
    },
    {
     "name": "stderr",
     "output_type": "stream",
     "text": [
      "C:\\Users\\ubion\\anaconda3\\envs\\aitensor\\lib\\site-packages\\sklearn\\cluster\\_kmeans.py:1416: FutureWarning: The default value of `n_init` will change from 10 to 'auto' in 1.4. Set the value of `n_init` explicitly to suppress the warning\n",
      "  super()._check_params_vs_input(X, default_n_init=10)\n",
      "C:\\Users\\ubion\\anaconda3\\envs\\aitensor\\lib\\site-packages\\sklearn\\cluster\\_kmeans.py:1440: UserWarning: KMeans is known to have a memory leak on Windows with MKL, when there are less chunks than available threads. You can avoid it by setting the environment variable OMP_NUM_THREADS=1.\n",
      "  warnings.warn(\n"
     ]
    }
   ],
   "source": [
    "# 라이브러리 불러오기\n",
    "from sklearn.cluster import KMeans\n",
    "import numpy as np\n",
    "\n",
    "# 임의의 데이터 생성하기\n",
    "X = np.array([[1, 2], [1, 4], [1, 0], [10, 2], [10, 4], [10, 0]])\n",
    "\n",
    "# K-평균 군집화 알고리즘 모델 생성하기\n",
    "kmeans = KMeans(n_clusters=2, random_state=0).fit(X)\n",
    "\n",
    "# K-평균 군집화 알고리즘 결과 확인하기\n",
    "print(kmeans.labels_)\n",
    "print(kmeans.predict([[0, 0], [12, 3]]))\n",
    "print(kmeans.cluster_centers_)"
   ]
  },
  {
   "cell_type": "markdown",
   "id": "9a233c2d-45f1-45b3-b97d-51643d853d66",
   "metadata": {},
   "source": [
    "## 2. DBSCAN\n",
    "### 1) DBSCAN 이해하기\n",
    "DBSCAN은 ‘노이즈가 있는 애플리케이션의 밀도 기반 공간 군집화’로, 데이터가 밀집한 정도를 기반으로 군집화하는 알고리즘입니다. 어떤 점을 기준으로 반경  내에 점이 n개 이상 있으면 하나의 군집으로 인식하는 방식으로, 점이 몰려 있어서 밀도가 높은 부분을 클러스터링하는 방식입니다.<br> \n",
    "DBSCAN은 단순히 가까운 거리의 데이터를 군집화하는 게 아니라, 밀도 높게 모여 있는 데이터들을 군집화할 때 유용합니다. 다음 그림의 점의 분포를 확인하면, 가까이 연결되어 밀도가 높은 데이터들을 같은 군집으로 분류했습니다. "
   ]
  },
  {
   "cell_type": "markdown",
   "id": "285e9c3a-3eb1-4a19-9070-79caf7e7982b",
   "metadata": {},
   "source": [
    "DBSCAN 알고리즘의 장점은 K-Means와 같이 군집의 수를 정하지 않아도 되며, 군집의 밀도에 따라 서로 연결하기 때문에 기하학적인 모양을 갖는 군집도 잘 찾을 수 있고, 노이즈 포인트를 통해 이상치 검출이 가능하다는 것입니다. \n",
    "\n",
    "**■ DBSCAN 알고리즘 작동 원리**<br>\n",
    "1. 데이터 p가 존재할 때 (epsilon) 최소 거리를 기준으로  반경 내에 몇 개의 데이터가 위치하는지를 셉니다. 이때  반경 내에 위치한 데이터가 min_points의 개수를 넘는 경우 p의 이웃(neighborhood)이 되고 같은 군집으로 분류됩니다.<br> \n",
    "2. 핵심 데이터(Core Point)는 군집 내의 밀집된 지역에 있는 것으로, 해당 점을 기준으로  반경 내에 MinPts개 이상의 데이터가 있는 경우 핵심 데이터가 됩니다. 핵심 데이터의  반경 내의 데이터는 모두 동일한 클러스터에 속합니다. <br>\n",
    "    - (epsilon, 최소 거리)：이웃(neighborhood)을 정의하기 위한 거리<br>\n",
    "    - MinPts(minimum points, 최소점)：밀집 지역(군집)을 정의하기 위해 필요한 이웃의 개수<p>\n",
    "\n",
    "3. 경계 데이터는 군집 내에 속하지만 해당 점을 기준으로  반경 내에 MinPts개 미만의 데이터가 있는 것입니다.<br> \n",
    "4. 핵심 데이터 또는 경계 데이터도 아닌 데이터는 노이즈(Noise Point)로 판단합니다. <br>\n",
    "\n",
    "### 2) DBSCAN 실습하기\n",
    "사이킷런 사이트에서 제공하는 데모를 통해 DBSCAN 군집화 알고리즘을 살펴봅니다. \n",
    "\n",
    "\n",
    "사이킷런 라이브러리 cluster 서브 패키지는 군집화를 위한 DBSCAN 클래스를 제공하며, 다음의 파라미터를 입력받습니다. "
   ]
  },
  {
   "cell_type": "markdown",
   "id": "a19aaee1-e645-429a-b25f-705f14f8d396",
   "metadata": {},
   "source": [
    "> 하이퍼파라미터\n",
    "> <div class=\"alert alert-block\" style=\"border: 2px solid #1976D2;background-color:#E3F2FD;padding:5px;font-size:0.9em;\">\n",
    "    * eps：이웃을 정의하기 위한 거리(epsilon)<br>\n",
    "    * min_samples：군집을 정의하기 위한 eps 반경 내 최소 데이터의 개수</div>\n",
    "\n",
    "군집화가 끝나면 객체는 다음 속성을 가집니다. \n",
    "* labes_：군집 번호(노이즈의 경우-1)\n",
    "* core_sample_indices_：핵심 데이터의 인덱스\n",
    "\n",
    "실습을 위해 make_blobs 함수를 사용하여 3개의 합성 클러스터 데이터를 만들어 봅니다. "
   ]
  },
  {
   "cell_type": "code",
   "execution_count": 5,
   "id": "b10fecc7-f8ec-4478-acea-2cc1b41dc6e0",
   "metadata": {},
   "outputs": [
    {
     "data": {
      "image/png": "[encoded data removed]",
      "text/plain": [
       "<Figure size 640x480 with 1 Axes>"
      ]
     },
     "metadata": {},
     "output_type": "display_data"
    }
   ],
   "source": [
    "import matplotlib.pyplot as plt\n",
    "from sklearn.datasets import make_blobs\n",
    "from sklearn.preprocessing import StandardScaler\n",
    "\n",
    "# 실습용 데이터 생성하기\n",
    "centers = [[1, 1], [-1, -1], [1, -1]]\n",
    "X, labels_true = make_blobs(\n",
    "    n_samples=750, centers=centers, cluster_std=0.4, random_state=0\n",
    ")\n",
    "\n",
    "# 데이터 표준화하기\n",
    "# fit_transform()은 fit()과 transform()을 합한 메소드임\n",
    "X = StandardScaler().fit_transform(X)\n",
    "\n",
    "# 데이터 시각화하기\n",
    "plt.scatter(X[:, 0], X[:, 1])\n",
    "plt.show()"
   ]
  },
  {
   "cell_type": "raw",
   "id": "bdbf3a72-2ec0-42c1-aed9-f2b83205085e",
   "metadata": {},
   "source": [
    "#298"
   ]
  },
  {
   "cell_type": "markdown",
   "id": "9090d7ba-1dbd-48fd-b654-2c6e320f73c2",
   "metadata": {},
   "source": [
    "sklearn.cluster 패키지의 DBSCAN 객체를 사용하여 군집화를 해봅니다. 군집화 실행 후 객체의 lables_ 속성을 사용하여 각 데이터의 군집 레이블을 확인할 수 있습니다. 노이즈 데이터의 레이블은 –1로 지정됩니다. "
   ]
  },
  {
   "cell_type": "code",
   "execution_count": 6,
   "id": "a4c553ad-4ba4-47f6-bdd7-94d7fc685b7d",
   "metadata": {},
   "outputs": [
    {
     "name": "stdout",
     "output_type": "stream",
     "text": [
      "Estimated number of clusters: 3\n",
      "Estimated number of noise points: 18\n"
     ]
    }
   ],
   "source": [
    "import numpy as np\n",
    "from sklearn.cluster import DBSCAN\n",
    "from sklearn import metrics\n",
    "\n",
    "# DBSCAN 모델 정의 및 학습하기\n",
    "db = DBSCAN(eps=0.3, min_samples=10).fit(X)\n",
    "labels = db.labels_\n",
    "\n",
    "# Noisy samples를 제외한 클러스터 개수 확인하기\n",
    "n_clusters_ = len(set(labels)) - (1 if -1 in labels else 0)\n",
    "\n",
    "# Noisy samples 개수 확인하기\n",
    "n_noise_ = list(labels).count(-1)\n",
    "\n",
    "print(\"Estimated number of clusters: %d\" % n_clusters_)\n",
    "print(\"Estimated number of noise points: %d\" % n_noise_)"
   ]
  },
  {
   "cell_type": "markdown",
   "id": "c2e079fe-194a-4a21-b9d6-c75ebb6ac65e",
   "metadata": {},
   "source": [
    "클러스터링 알고리즘은 기본적으로 비지도학습 방법으로 데이터의 레이블을 알 수 없습니다. 그러나 sklearn.datasets.make_blobs 함수를 통해 데이터 생성 시 합성 클러스터의 레이블을 알 수 있습니다. 이 레이블 데이터를 군집화의 품질을 정량화하는 평가지표로 사용할 수 있습니다. \n",
    "이러한 메트릭의 예로는 동질성(Homogeneity), 완전성(Completeness), V-measure, 랜드지수(Rand-Index), 조정된 랜드지수(Adjusted Rand-Index) 및 조정 상호정보량(AMI, Adjusted Mutual Information)이 있습니다. 실제 레이블을 알 수 없는 경우 모델 결과 자체를 사용해야만 평가를 수행할 수 있습니다. 이 경우 실루엣 계수(Sihouette Coefficient)가 유용합니다. "
   ]
  },
  {
   "cell_type": "raw",
   "id": "3dadccd5-49a3-4e1d-a24a-276aedd2a3c9",
   "metadata": {},
   "source": [
    "#299"
   ]
  },
  {
   "cell_type": "code",
   "execution_count": 7,
   "id": "c0fd7dbb-afb3-4f12-9d20-29d1e6347a68",
   "metadata": {},
   "outputs": [
    {
     "name": "stdout",
     "output_type": "stream",
     "text": [
      "Homogeneity: 0.953\n",
      "Completeness: 0.883\n",
      "V-measure: 0.917\n",
      "Rand Index: 0.952\n",
      "AMI: 0.916\n",
      "Silhouette Coefficient: 0.626\n"
     ]
    }
   ],
   "source": [
    "# 평가 지표 출력하기\n",
    "print(f\"Homogeneity: {metrics.homogeneity_score(labels_true, labels):.3f}\")\n",
    "print(f\"Completeness: {metrics.completeness_score(labels_true, labels):.3f}\")\n",
    "print(f\"V-measure: {metrics.v_measure_score(labels_true, labels):.3f}\")\n",
    "print(f\"Rand Index: {metrics.adjusted_rand_score(labels_true, labels):.3f}\")\n",
    "print(f\"AMI: {metrics.adjusted_mutual_info_score(labels_true, labels):.3f}\")\n",
    "print(f\"Silhouette Coefficient: {metrics.silhouette_score(X, labels):.3f}\")"
   ]
  },
  {
   "cell_type": "markdown",
   "id": "1ea5c244-3a46-4a01-b302-eb2a25d36073",
   "metadata": {},
   "source": [
    "#### (1) 시각화하기\n",
    "핵심 데이터(core point) 및 경계 데이터(board point)는 각각 큰 점과 작은 점으로 시각화되며, 할당된 클러스터에 따라 색상으로 구분됩니다. noise point 태그가 지정된 샘플은 검은색으로 표시됩니다. "
   ]
  },
  {
   "cell_type": "code",
   "execution_count": 8,
   "id": "2b269fd8-1d5c-4669-ac4a-f285ecd8f4fe",
   "metadata": {},
   "outputs": [
    {
     "data": {
      "image/png": "[encoded data removed]",
      "text/plain": [
       "<Figure size 640x480 with 1 Axes>"
      ]
     },
     "metadata": {},
     "output_type": "display_data"
    }
   ],
   "source": [
    "# 레이블 유일값 설정하기\n",
    "unique_labels = set(labels)\n",
    "\n",
    "core_samples_mask = np.zeros_like(labels, dtype=bool)\n",
    "core_samples_mask[db.core_sample_indices_] = True\n",
    "\n",
    "# 클러스터 구분 색상 설정하기\n",
    "colors = [plt.cm.Spectral(each) for each in np.linspace(0, 1, len(unique_labels))]\n",
    "\n",
    "# 시각화하기\n",
    "for k, col in zip(unique_labels, colors):\n",
    "    if k == -1:\n",
    "        # 레이블이 -1로 지정된 Noise Point는 검은색으로 지정하기\n",
    "        col = [0, 0, 0, 1]\n",
    "\n",
    "    class_member_mask = labels == k\n",
    "\n",
    "    \n",
    "    xy = X[class_member_mask & core_samples_mask]\n",
    "    plt.plot(\n",
    "        xy[:, 0],\n",
    "        xy[:, 1],\n",
    "        \"o\",\n",
    "        markerfacecolor=tuple(col),\n",
    "        markeredgecolor=\"k\",\n",
    "        markersize=14,\n",
    "    )\n",
    "\n",
    "    xy = X[class_member_mask & ~core_samples_mask]\n",
    "    plt.plot(\n",
    "        xy[:, 0],\n",
    "        xy[:, 1],\n",
    "        \"o\",\n",
    "        markerfacecolor=tuple(col),\n",
    "        markeredgecolor=\"k\",\n",
    "        markersize=6,\n",
    "    )\n",
    "\n",
    "plt.title(f\"Estimated number of clusters: {n_clusters_}\")\n",
    "plt.show()"
   ]
  },
  {
   "cell_type": "markdown",
   "id": "7fb0b7c6-c5da-40ec-b063-882b055c1430",
   "metadata": {},
   "source": [
    "# 3. 고객 세분화 모델 구현 실습하기\n",
    "고객 관리(CRM, Customer Relationship Management)를 할 때 사용하는 기법 중에 RFM 분석이 있습니다. 다음 세 단어의 약자를 따서 RFM이라고 부릅니다.\n",
    "* Recency(구매 최신성)：얼마나 최근에 구매했는가?\n",
    "* Frequency(구매 빈도)：얼마나 자주 구매했는가?\n",
    "* Monetary(구매 금액)：얼마나 많은 금액을 지출했는가?\n",
    "\n",
    "RFM 분석 기법을 이용하여 고객 세분화(Customer Segmentation)를 어떻게 하는지 살펴보고, K-평균 군집화 알고리즘으로 사용자 세부화 모델을 구현해 봅니다.\n",
    "먼저 온라인 소매 데이터를 확인합니다. \n",
    "\n",
    "Online Retail Ⅱ 데이터세트에는 영국에 있는 한 온라인 소매점에서 발생한 모든 거래내역이 포함되어 있습니다.\n",
    "<div style=\"display:table; border-collapse:collapse; width:100%; text-align:center;\">\n",
    "\t<div style=\"display:table-row; background-color:#d9e2f3; font-weight:bold\">\n",
    "\t\t<div style=\"display:table-cell; border:1px solid black; padding:5px;\">속성명</div>\n",
    "\t\t<div style=\"display:table-cell; border:1px solid black; padding:5px;\">설명</div>\n",
    "        <div style=\"display:table-cell; border:1px solid black; padding:5px;\">구분</div>\n",
    "\t</div>\n",
    "\t<div style=\"display:table-row;\">\n",
    "\t\t<div style=\"display:table-cell; border:1px solid black; padding:5px;\">InvoiceNo</div>\n",
    "\t\t<div style=\"display:table-cell; border:1px solid black; padding:5px;\">송장번호</div>\n",
    "\t\t<div style=\"display:table-cell; border:1px solid black; padding:5px;\">각 트랜잭션에 고유하게 할당된 6자리 정수 번호입니다.<br>\n",
    "이 코드가 문자 ‘c’로 시작하면 취소를 나타냅니다.</div>\n",
    "\t</div>\n",
    "\t<div style=\"display:table-row;\">\n",
    "\t\t<div style=\"display:table-cell; border:1px solid black; padding:5px;\">StockCode</div>\n",
    "\t\t<div style=\"display:table-cell; border:1px solid black; padding:5px;\">제품 코드</div>\n",
    "\t\t<div style=\"display:table-cell; border:1px solid black; padding:5px;\">각 개별 제품에 고유하게 할당된 5자리 정수 번호입니다.</div>\n",
    "\t</div>\n",
    "\t<div style=\"display:table-row;\">\n",
    "\t\t<div style=\"display:table-cell; border:1px solid black; padding:5px;\">Description</div>\n",
    "\t\t<div style=\"display:table-cell; border:1px solid black; padding:5px;\">제품 이름</div>\n",
    "\t\t<div style=\"display:table-cell; border:1px solid black; padding:5px;\">제품 이름입니다.</div>\n",
    "\t</div>\n",
    "\t<div style=\"display:table-row;\">\n",
    "\t\t<div style=\"display:table-cell; border:1px solid black; padding:5px;\">Quantity</div>\n",
    "\t\t<div style=\"display:table-cell; border:1px solid black; padding:5px;\">제품 수량</div>\n",
    "\t\t<div style=\"display:table-cell; border:1px solid black; padding:5px;\">거래당 각 제품(항목)의 수량입니다.</div>\n",
    "\t</div>\n",
    "\t<div style=\"display:table-row;\">\n",
    "\t\t<div style=\"display:table-cell; border:1px solid black; padding:5px;\">InvoiceDate</div>\n",
    "\t\t<div style=\"display:table-cell; border:1px solid black; padding:5px;\">송장 날짜 및 시간</div>\n",
    "\t\t<div style=\"display:table-cell; border:1px solid black; padding:5px;\">트랜잭션이 생성된 날짜와 시간입니다.</div>\n",
    "\t</div>\n",
    "\t<div style=\"display:table-row;\">\n",
    "\t\t<div style=\"display:table-cell; border:1px solid black; padding:5px;\">CustomerID</div>\n",
    "\t\t<div style=\"display:table-cell; border:1px solid black; padding:5px;\">고객 번호</div>\n",
    "\t\t<div style=\"display:table-cell; border:1px solid black; padding:5px;\">각 고객에게 고유하게 할당된 5자리 정수 번호입니다.</div>\n",
    "\t</div>\n",
    "\t<div style=\"display:table-row;\">\n",
    "\t\t<div style=\"display:table-cell; border:1px solid black; padding:5px;\">Country</div>\n",
    "\t\t<div style=\"display:table-cell; border:1px solid black; padding:5px;\">국가 이름</div>\n",
    "\t\t<div style=\"display:table-cell; border:1px solid black; padding:5px;\">고객이 거주하는 국가의 이름입니다.</div>\n",
    "\t</div>\n",
    "</div>"
   ]
  },
  {
   "cell_type": "markdown",
   "id": "6707fcfc-1002-4b24-bf8b-000399f25b13",
   "metadata": {},
   "source": [
    "### 1) 데이터 불러오기 및 전처리하기\n",
    "엑셀 파일에서 데이터를 불러오기 위해 openpyxl 라이브러리를 설치합니다."
   ]
  },
  {
   "cell_type": "code",
   "execution_count": 10,
   "id": "cf42df0a-0080-4851-8908-c839414de56d",
   "metadata": {},
   "outputs": [
    {
     "name": "stdout",
     "output_type": "stream",
     "text": [
      "Collecting openpyxl\n",
      "  Using cached openpyxl-3.1.5-py2.py3-none-any.whl.metadata (2.5 kB)\n",
      "Collecting et-xmlfile (from openpyxl)\n",
      "  Using cached et_xmlfile-2.0.0-py3-none-any.whl.metadata (2.7 kB)\n",
      "Using cached openpyxl-3.1.5-py2.py3-none-any.whl (250 kB)\n",
      "Using cached et_xmlfile-2.0.0-py3-none-any.whl (18 kB)\n",
      "Installing collected packages: et-xmlfile, openpyxl\n",
      "Successfully installed et-xmlfile-2.0.0 openpyxl-3.1.5\n"
     ]
    }
   ],
   "source": [
    "# openpyxl 설치하기\n",
    "!pip install openpyxl"
   ]
  },
  {
   "cell_type": "markdown",
   "id": "f98d0a46-9589-4b06-ae45-eaffb60fdb49",
   "metadata": {},
   "source": [
    "필요한 라이브러리를 불러옵니다."
   ]
  },
  {
   "cell_type": "code",
   "execution_count": 12,
   "id": "d078da3c-5049-4e7f-9b4d-ace49281d4fe",
   "metadata": {},
   "outputs": [
    {
     "name": "stdout",
     "output_type": "stream",
     "text": [
      "Collecting seaborn\n",
      "  Downloading seaborn-0.13.2-py3-none-any.whl.metadata (5.4 kB)\n",
      "Requirement already satisfied: numpy!=1.24.0,>=1.20 in c:\\users\\ubion\\anaconda3\\envs\\aitensor\\lib\\site-packages (from seaborn) (1.24.3)\n",
      "Requirement already satisfied: pandas>=1.2 in c:\\users\\ubion\\anaconda3\\envs\\aitensor\\lib\\site-packages (from seaborn) (2.0.3)\n",
      "Requirement already satisfied: matplotlib!=3.6.1,>=3.4 in c:\\users\\ubion\\anaconda3\\envs\\aitensor\\lib\\site-packages (from seaborn) (3.7.5)\n",
      "Requirement already satisfied: contourpy>=1.0.1 in c:\\users\\ubion\\anaconda3\\envs\\aitensor\\lib\\site-packages (from matplotlib!=3.6.1,>=3.4->seaborn) (1.1.1)\n",
      "Requirement already satisfied: cycler>=0.10 in c:\\users\\ubion\\anaconda3\\envs\\aitensor\\lib\\site-packages (from matplotlib!=3.6.1,>=3.4->seaborn) (0.12.1)\n",
      "Requirement already satisfied: fonttools>=4.22.0 in c:\\users\\ubion\\anaconda3\\envs\\aitensor\\lib\\site-packages (from matplotlib!=3.6.1,>=3.4->seaborn) (4.54.1)\n",
      "Requirement already satisfied: kiwisolver>=1.0.1 in c:\\users\\ubion\\anaconda3\\envs\\aitensor\\lib\\site-packages (from matplotlib!=3.6.1,>=3.4->seaborn) (1.4.7)\n",
      "Requirement already satisfied: packaging>=20.0 in c:\\users\\ubion\\anaconda3\\envs\\aitensor\\lib\\site-packages (from matplotlib!=3.6.1,>=3.4->seaborn) (24.1)\n",
      "Requirement already satisfied: pillow>=6.2.0 in c:\\users\\ubion\\anaconda3\\envs\\aitensor\\lib\\site-packages (from matplotlib!=3.6.1,>=3.4->seaborn) (10.4.0)\n",
      "Requirement already satisfied: pyparsing>=2.3.1 in c:\\users\\ubion\\anaconda3\\envs\\aitensor\\lib\\site-packages (from matplotlib!=3.6.1,>=3.4->seaborn) (3.1.4)\n",
      "Requirement already satisfied: python-dateutil>=2.7 in c:\\users\\ubion\\anaconda3\\envs\\aitensor\\lib\\site-packages (from matplotlib!=3.6.1,>=3.4->seaborn) (2.9.0.post0)\n",
      "Requirement already satisfied: importlib-resources>=3.2.0 in c:\\users\\ubion\\anaconda3\\envs\\aitensor\\lib\\site-packages (from matplotlib!=3.6.1,>=3.4->seaborn) (6.4.0)\n",
      "Requirement already satisfied: pytz>=2020.1 in c:\\users\\ubion\\anaconda3\\envs\\aitensor\\lib\\site-packages (from pandas>=1.2->seaborn) (2024.1)\n",
      "Requirement already satisfied: tzdata>=2022.1 in c:\\users\\ubion\\anaconda3\\envs\\aitensor\\lib\\site-packages (from pandas>=1.2->seaborn) (2023.3)\n",
      "Requirement already satisfied: zipp>=3.1.0 in c:\\users\\ubion\\anaconda3\\envs\\aitensor\\lib\\site-packages (from importlib-resources>=3.2.0->matplotlib!=3.6.1,>=3.4->seaborn) (3.20.2)\n",
      "Requirement already satisfied: six>=1.5 in c:\\users\\ubion\\anaconda3\\envs\\aitensor\\lib\\site-packages (from python-dateutil>=2.7->matplotlib!=3.6.1,>=3.4->seaborn) (1.16.0)\n",
      "Downloading seaborn-0.13.2-py3-none-any.whl (294 kB)\n",
      "Installing collected packages: seaborn\n",
      "Successfully installed seaborn-0.13.2\n",
      "Note: you may need to restart the kernel to use updated packages.\n"
     ]
    }
   ],
   "source": [
    "#pip install seaborn"
   ]
  },
  {
   "cell_type": "code",
   "execution_count": 13,
   "id": "7048ed74-a502-45ed-91c9-7232ae7597de",
   "metadata": {},
   "outputs": [],
   "source": [
    "# 필요한 라이브러리 불러오기\n",
    "import datetime\n",
    "import numpy as np\n",
    "import datetime as dt\n",
    "import pandas as pd\n",
    "import seaborn as sns\n",
    "import matplotlib.pyplot as plt\n",
    "\n",
    "from sklearn.cluster import KMeans\n",
    "from sklearn.preprocessing import StandardScaler\n",
    "\n",
    "# 경고 메시지를 무시하도록 설정하기\n",
    "import warnings\n",
    "warnings.filterwarnings(\"ignore\")"
   ]
  },
  {
   "cell_type": "markdown",
   "id": "c8917b79-a904-4822-9196-2265207612a5",
   "metadata": {},
   "source": [
    "Pandas 라이브러리의 read_excel() 메소드로 엑셀 파일에서 데이터를 로드해서 데이터프레임으로 저장합니다. "
   ]
  },
  {
   "cell_type": "code",
   "execution_count": 14,
   "id": "16adf5b0-5b19-49ba-8ff6-b7ff5322a82a",
   "metadata": {},
   "outputs": [],
   "source": [
    "# 엑셀파일에서 데이터를 로드해서 데이터프레임으로 저장하기\n",
    "df = pd.read_excel(\n",
    "    'https://archive.ics.uci.edu/ml/machine-learning-databases/00502/online_retail_II.xlsx', \n",
    "    engine=\"openpyxl\")"
   ]
  },
  {
   "cell_type": "markdown",
   "id": "b15e8799-2649-4e72-bd42-cdef0a8cdc3a",
   "metadata": {},
   "source": [
    "DataFrame의 info 메소드로 데이터프레임의 정보를 확인합니다. "
   ]
  },
  {
   "cell_type": "code",
   "execution_count": 15,
   "id": "4d25936b-9677-46e6-b265-b4afa03342f0",
   "metadata": {},
   "outputs": [
    {
     "data": {
      "text/html": [
       "<div>\n",
       "<style scoped>\n",
       "    .dataframe tbody tr th:only-of-type {\n",
       "        vertical-align: middle;\n",
       "    }\n",
       "\n",
       "    .dataframe tbody tr th {\n",
       "        vertical-align: top;\n",
       "    }\n",
       "\n",
       "    .dataframe thead th {\n",
       "        text-align: right;\n",
       "    }\n",
       "</style>\n",
       "<table border=\"1\" class=\"dataframe\">\n",
       "  <thead>\n",
       "    <tr style=\"text-align: right;\">\n",
       "      <th></th>\n",
       "      <th>Invoice</th>\n",
       "      <th>StockCode</th>\n",
       "      <th>Description</th>\n",
       "      <th>Quantity</th>\n",
       "      <th>InvoiceDate</th>\n",
       "      <th>Price</th>\n",
       "      <th>Customer ID</th>\n",
       "      <th>Country</th>\n",
       "    </tr>\n",
       "  </thead>\n",
       "  <tbody>\n",
       "    <tr>\n",
       "      <th>0</th>\n",
       "      <td>489434</td>\n",
       "      <td>85048</td>\n",
       "      <td>15CM CHRISTMAS GLASS BALL 20 LIGHTS</td>\n",
       "      <td>12</td>\n",
       "      <td>2009-12-01 07:45:00</td>\n",
       "      <td>6.95</td>\n",
       "      <td>13085.0</td>\n",
       "      <td>United Kingdom</td>\n",
       "    </tr>\n",
       "    <tr>\n",
       "      <th>1</th>\n",
       "      <td>489434</td>\n",
       "      <td>79323P</td>\n",
       "      <td>PINK CHERRY LIGHTS</td>\n",
       "      <td>12</td>\n",
       "      <td>2009-12-01 07:45:00</td>\n",
       "      <td>6.75</td>\n",
       "      <td>13085.0</td>\n",
       "      <td>United Kingdom</td>\n",
       "    </tr>\n",
       "    <tr>\n",
       "      <th>2</th>\n",
       "      <td>489434</td>\n",
       "      <td>79323W</td>\n",
       "      <td>WHITE CHERRY LIGHTS</td>\n",
       "      <td>12</td>\n",
       "      <td>2009-12-01 07:45:00</td>\n",
       "      <td>6.75</td>\n",
       "      <td>13085.0</td>\n",
       "      <td>United Kingdom</td>\n",
       "    </tr>\n",
       "    <tr>\n",
       "      <th>3</th>\n",
       "      <td>489434</td>\n",
       "      <td>22041</td>\n",
       "      <td>RECORD FRAME 7\" SINGLE SIZE</td>\n",
       "      <td>48</td>\n",
       "      <td>2009-12-01 07:45:00</td>\n",
       "      <td>2.10</td>\n",
       "      <td>13085.0</td>\n",
       "      <td>United Kingdom</td>\n",
       "    </tr>\n",
       "    <tr>\n",
       "      <th>4</th>\n",
       "      <td>489434</td>\n",
       "      <td>21232</td>\n",
       "      <td>STRAWBERRY CERAMIC TRINKET BOX</td>\n",
       "      <td>24</td>\n",
       "      <td>2009-12-01 07:45:00</td>\n",
       "      <td>1.25</td>\n",
       "      <td>13085.0</td>\n",
       "      <td>United Kingdom</td>\n",
       "    </tr>\n",
       "    <tr>\n",
       "      <th>5</th>\n",
       "      <td>489434</td>\n",
       "      <td>22064</td>\n",
       "      <td>PINK DOUGHNUT TRINKET POT</td>\n",
       "      <td>24</td>\n",
       "      <td>2009-12-01 07:45:00</td>\n",
       "      <td>1.65</td>\n",
       "      <td>13085.0</td>\n",
       "      <td>United Kingdom</td>\n",
       "    </tr>\n",
       "    <tr>\n",
       "      <th>6</th>\n",
       "      <td>489434</td>\n",
       "      <td>21871</td>\n",
       "      <td>SAVE THE PLANET MUG</td>\n",
       "      <td>24</td>\n",
       "      <td>2009-12-01 07:45:00</td>\n",
       "      <td>1.25</td>\n",
       "      <td>13085.0</td>\n",
       "      <td>United Kingdom</td>\n",
       "    </tr>\n",
       "    <tr>\n",
       "      <th>7</th>\n",
       "      <td>489434</td>\n",
       "      <td>21523</td>\n",
       "      <td>FANCY FONT HOME SWEET HOME DOORMAT</td>\n",
       "      <td>10</td>\n",
       "      <td>2009-12-01 07:45:00</td>\n",
       "      <td>5.95</td>\n",
       "      <td>13085.0</td>\n",
       "      <td>United Kingdom</td>\n",
       "    </tr>\n",
       "    <tr>\n",
       "      <th>8</th>\n",
       "      <td>489435</td>\n",
       "      <td>22350</td>\n",
       "      <td>CAT BOWL</td>\n",
       "      <td>12</td>\n",
       "      <td>2009-12-01 07:46:00</td>\n",
       "      <td>2.55</td>\n",
       "      <td>13085.0</td>\n",
       "      <td>United Kingdom</td>\n",
       "    </tr>\n",
       "    <tr>\n",
       "      <th>9</th>\n",
       "      <td>489435</td>\n",
       "      <td>22349</td>\n",
       "      <td>DOG BOWL , CHASING BALL DESIGN</td>\n",
       "      <td>12</td>\n",
       "      <td>2009-12-01 07:46:00</td>\n",
       "      <td>3.75</td>\n",
       "      <td>13085.0</td>\n",
       "      <td>United Kingdom</td>\n",
       "    </tr>\n",
       "    <tr>\n",
       "      <th>10</th>\n",
       "      <td>489435</td>\n",
       "      <td>22195</td>\n",
       "      <td>HEART MEASURING SPOONS LARGE</td>\n",
       "      <td>24</td>\n",
       "      <td>2009-12-01 07:46:00</td>\n",
       "      <td>1.65</td>\n",
       "      <td>13085.0</td>\n",
       "      <td>United Kingdom</td>\n",
       "    </tr>\n",
       "    <tr>\n",
       "      <th>11</th>\n",
       "      <td>489435</td>\n",
       "      <td>22353</td>\n",
       "      <td>LUNCHBOX WITH CUTLERY FAIRY CAKES</td>\n",
       "      <td>12</td>\n",
       "      <td>2009-12-01 07:46:00</td>\n",
       "      <td>2.55</td>\n",
       "      <td>13085.0</td>\n",
       "      <td>United Kingdom</td>\n",
       "    </tr>\n",
       "    <tr>\n",
       "      <th>12</th>\n",
       "      <td>489436</td>\n",
       "      <td>48173C</td>\n",
       "      <td>DOOR MAT BLACK FLOCK</td>\n",
       "      <td>10</td>\n",
       "      <td>2009-12-01 09:06:00</td>\n",
       "      <td>5.95</td>\n",
       "      <td>13078.0</td>\n",
       "      <td>United Kingdom</td>\n",
       "    </tr>\n",
       "    <tr>\n",
       "      <th>13</th>\n",
       "      <td>489436</td>\n",
       "      <td>21755</td>\n",
       "      <td>LOVE BUILDING BLOCK WORD</td>\n",
       "      <td>18</td>\n",
       "      <td>2009-12-01 09:06:00</td>\n",
       "      <td>5.45</td>\n",
       "      <td>13078.0</td>\n",
       "      <td>United Kingdom</td>\n",
       "    </tr>\n",
       "    <tr>\n",
       "      <th>14</th>\n",
       "      <td>489436</td>\n",
       "      <td>21754</td>\n",
       "      <td>HOME BUILDING BLOCK WORD</td>\n",
       "      <td>3</td>\n",
       "      <td>2009-12-01 09:06:00</td>\n",
       "      <td>5.95</td>\n",
       "      <td>13078.0</td>\n",
       "      <td>United Kingdom</td>\n",
       "    </tr>\n",
       "    <tr>\n",
       "      <th>15</th>\n",
       "      <td>489436</td>\n",
       "      <td>84879</td>\n",
       "      <td>ASSORTED COLOUR BIRD ORNAMENT</td>\n",
       "      <td>16</td>\n",
       "      <td>2009-12-01 09:06:00</td>\n",
       "      <td>1.69</td>\n",
       "      <td>13078.0</td>\n",
       "      <td>United Kingdom</td>\n",
       "    </tr>\n",
       "    <tr>\n",
       "      <th>16</th>\n",
       "      <td>489436</td>\n",
       "      <td>22119</td>\n",
       "      <td>PEACE WOODEN BLOCK LETTERS</td>\n",
       "      <td>3</td>\n",
       "      <td>2009-12-01 09:06:00</td>\n",
       "      <td>6.95</td>\n",
       "      <td>13078.0</td>\n",
       "      <td>United Kingdom</td>\n",
       "    </tr>\n",
       "    <tr>\n",
       "      <th>17</th>\n",
       "      <td>489436</td>\n",
       "      <td>22142</td>\n",
       "      <td>CHRISTMAS CRAFT WHITE FAIRY</td>\n",
       "      <td>12</td>\n",
       "      <td>2009-12-01 09:06:00</td>\n",
       "      <td>1.45</td>\n",
       "      <td>13078.0</td>\n",
       "      <td>United Kingdom</td>\n",
       "    </tr>\n",
       "    <tr>\n",
       "      <th>18</th>\n",
       "      <td>489436</td>\n",
       "      <td>22296</td>\n",
       "      <td>HEART IVORY TRELLIS LARGE</td>\n",
       "      <td>12</td>\n",
       "      <td>2009-12-01 09:06:00</td>\n",
       "      <td>1.65</td>\n",
       "      <td>13078.0</td>\n",
       "      <td>United Kingdom</td>\n",
       "    </tr>\n",
       "    <tr>\n",
       "      <th>19</th>\n",
       "      <td>489436</td>\n",
       "      <td>22295</td>\n",
       "      <td>HEART FILIGREE DOVE LARGE</td>\n",
       "      <td>12</td>\n",
       "      <td>2009-12-01 09:06:00</td>\n",
       "      <td>1.65</td>\n",
       "      <td>13078.0</td>\n",
       "      <td>United Kingdom</td>\n",
       "    </tr>\n",
       "  </tbody>\n",
       "</table>\n",
       "</div>"
      ],
      "text/plain": [
       "   Invoice StockCode                          Description  Quantity  \\\n",
       "0   489434     85048  15CM CHRISTMAS GLASS BALL 20 LIGHTS        12   \n",
       "1   489434    79323P                   PINK CHERRY LIGHTS        12   \n",
       "2   489434    79323W                  WHITE CHERRY LIGHTS        12   \n",
       "3   489434     22041         RECORD FRAME 7\" SINGLE SIZE         48   \n",
       "4   489434     21232       STRAWBERRY CERAMIC TRINKET BOX        24   \n",
       "5   489434     22064           PINK DOUGHNUT TRINKET POT         24   \n",
       "6   489434     21871                  SAVE THE PLANET MUG        24   \n",
       "7   489434     21523   FANCY FONT HOME SWEET HOME DOORMAT        10   \n",
       "8   489435     22350                            CAT BOWL         12   \n",
       "9   489435     22349       DOG BOWL , CHASING BALL DESIGN        12   \n",
       "10  489435     22195         HEART MEASURING SPOONS LARGE        24   \n",
       "11  489435     22353   LUNCHBOX WITH CUTLERY FAIRY CAKES         12   \n",
       "12  489436    48173C                DOOR MAT BLACK FLOCK         10   \n",
       "13  489436     21755             LOVE BUILDING BLOCK WORD        18   \n",
       "14  489436     21754             HOME BUILDING BLOCK WORD         3   \n",
       "15  489436     84879        ASSORTED COLOUR BIRD ORNAMENT        16   \n",
       "16  489436     22119           PEACE WOODEN BLOCK LETTERS         3   \n",
       "17  489436     22142         CHRISTMAS CRAFT WHITE FAIRY         12   \n",
       "18  489436     22296            HEART IVORY TRELLIS LARGE        12   \n",
       "19  489436     22295            HEART FILIGREE DOVE LARGE        12   \n",
       "\n",
       "           InvoiceDate  Price  Customer ID         Country  \n",
       "0  2009-12-01 07:45:00   6.95      13085.0  United Kingdom  \n",
       "1  2009-12-01 07:45:00   6.75      13085.0  United Kingdom  \n",
       "2  2009-12-01 07:45:00   6.75      13085.0  United Kingdom  \n",
       "3  2009-12-01 07:45:00   2.10      13085.0  United Kingdom  \n",
       "4  2009-12-01 07:45:00   1.25      13085.0  United Kingdom  \n",
       "5  2009-12-01 07:45:00   1.65      13085.0  United Kingdom  \n",
       "6  2009-12-01 07:45:00   1.25      13085.0  United Kingdom  \n",
       "7  2009-12-01 07:45:00   5.95      13085.0  United Kingdom  \n",
       "8  2009-12-01 07:46:00   2.55      13085.0  United Kingdom  \n",
       "9  2009-12-01 07:46:00   3.75      13085.0  United Kingdom  \n",
       "10 2009-12-01 07:46:00   1.65      13085.0  United Kingdom  \n",
       "11 2009-12-01 07:46:00   2.55      13085.0  United Kingdom  \n",
       "12 2009-12-01 09:06:00   5.95      13078.0  United Kingdom  \n",
       "13 2009-12-01 09:06:00   5.45      13078.0  United Kingdom  \n",
       "14 2009-12-01 09:06:00   5.95      13078.0  United Kingdom  \n",
       "15 2009-12-01 09:06:00   1.69      13078.0  United Kingdom  \n",
       "16 2009-12-01 09:06:00   6.95      13078.0  United Kingdom  \n",
       "17 2009-12-01 09:06:00   1.45      13078.0  United Kingdom  \n",
       "18 2009-12-01 09:06:00   1.65      13078.0  United Kingdom  \n",
       "19 2009-12-01 09:06:00   1.65      13078.0  United Kingdom  "
      ]
     },
     "execution_count": 15,
     "metadata": {},
     "output_type": "execute_result"
    }
   ],
   "source": [
    "# 데이터프레임의 처음 20개행의 데이터 출력하기\n",
    "df.head(20)"
   ]
  },
  {
   "cell_type": "markdown",
   "id": "9f3e9d6d-8cc5-4d78-9286-b9633bf34e7e",
   "metadata": {},
   "source": [
    "데이터의 통계량을 확인합니다. "
   ]
  },
  {
   "cell_type": "code",
   "execution_count": 16,
   "id": "36c902d4-69d1-494d-8fe8-00b31ee08e1a",
   "metadata": {},
   "outputs": [
    {
     "data": {
      "text/html": [
       "<div>\n",
       "<style scoped>\n",
       "    .dataframe tbody tr th:only-of-type {\n",
       "        vertical-align: middle;\n",
       "    }\n",
       "\n",
       "    .dataframe tbody tr th {\n",
       "        vertical-align: top;\n",
       "    }\n",
       "\n",
       "    .dataframe thead th {\n",
       "        text-align: right;\n",
       "    }\n",
       "</style>\n",
       "<table border=\"1\" class=\"dataframe\">\n",
       "  <thead>\n",
       "    <tr style=\"text-align: right;\">\n",
       "      <th></th>\n",
       "      <th>Quantity</th>\n",
       "      <th>InvoiceDate</th>\n",
       "      <th>Price</th>\n",
       "      <th>Customer ID</th>\n",
       "    </tr>\n",
       "  </thead>\n",
       "  <tbody>\n",
       "    <tr>\n",
       "      <th>count</th>\n",
       "      <td>525461.000000</td>\n",
       "      <td>525461</td>\n",
       "      <td>525461.000000</td>\n",
       "      <td>417534.000000</td>\n",
       "    </tr>\n",
       "    <tr>\n",
       "      <th>mean</th>\n",
       "      <td>10.337667</td>\n",
       "      <td>2010-06-28 11:37:36.845017856</td>\n",
       "      <td>4.688834</td>\n",
       "      <td>15360.645478</td>\n",
       "    </tr>\n",
       "    <tr>\n",
       "      <th>min</th>\n",
       "      <td>-9600.000000</td>\n",
       "      <td>2009-12-01 07:45:00</td>\n",
       "      <td>-53594.360000</td>\n",
       "      <td>12346.000000</td>\n",
       "    </tr>\n",
       "    <tr>\n",
       "      <th>25%</th>\n",
       "      <td>1.000000</td>\n",
       "      <td>2010-03-21 12:20:00</td>\n",
       "      <td>1.250000</td>\n",
       "      <td>13983.000000</td>\n",
       "    </tr>\n",
       "    <tr>\n",
       "      <th>50%</th>\n",
       "      <td>3.000000</td>\n",
       "      <td>2010-07-06 09:51:00</td>\n",
       "      <td>2.100000</td>\n",
       "      <td>15311.000000</td>\n",
       "    </tr>\n",
       "    <tr>\n",
       "      <th>75%</th>\n",
       "      <td>10.000000</td>\n",
       "      <td>2010-10-15 12:45:00</td>\n",
       "      <td>4.210000</td>\n",
       "      <td>16799.000000</td>\n",
       "    </tr>\n",
       "    <tr>\n",
       "      <th>max</th>\n",
       "      <td>19152.000000</td>\n",
       "      <td>2010-12-09 20:01:00</td>\n",
       "      <td>25111.090000</td>\n",
       "      <td>18287.000000</td>\n",
       "    </tr>\n",
       "    <tr>\n",
       "      <th>std</th>\n",
       "      <td>107.424110</td>\n",
       "      <td>NaN</td>\n",
       "      <td>146.126914</td>\n",
       "      <td>1680.811316</td>\n",
       "    </tr>\n",
       "  </tbody>\n",
       "</table>\n",
       "</div>"
      ],
      "text/plain": [
       "            Quantity                    InvoiceDate          Price  \\\n",
       "count  525461.000000                         525461  525461.000000   \n",
       "mean       10.337667  2010-06-28 11:37:36.845017856       4.688834   \n",
       "min     -9600.000000            2009-12-01 07:45:00  -53594.360000   \n",
       "25%         1.000000            2010-03-21 12:20:00       1.250000   \n",
       "50%         3.000000            2010-07-06 09:51:00       2.100000   \n",
       "75%        10.000000            2010-10-15 12:45:00       4.210000   \n",
       "max     19152.000000            2010-12-09 20:01:00   25111.090000   \n",
       "std       107.424110                            NaN     146.126914   \n",
       "\n",
       "         Customer ID  \n",
       "count  417534.000000  \n",
       "mean    15360.645478  \n",
       "min     12346.000000  \n",
       "25%     13983.000000  \n",
       "50%     15311.000000  \n",
       "75%     16799.000000  \n",
       "max     18287.000000  \n",
       "std      1680.811316  "
      ]
     },
     "execution_count": 16,
     "metadata": {},
     "output_type": "execute_result"
    }
   ],
   "source": [
    "# 데이터프레임의 요약 통계량 확인하기\n",
    "df.describe()"
   ]
  },
  {
   "cell_type": "markdown",
   "id": "a081f58c-ea96-4419-8588-96fbdf0545d6",
   "metadata": {},
   "source": [
    "데이터에 결측치가 있는지 확인합니다. "
   ]
  },
  {
   "cell_type": "code",
   "execution_count": 17,
   "id": "73f15bd1-2952-42a0-837c-2688fb4139a2",
   "metadata": {},
   "outputs": [
    {
     "data": {
      "text/plain": [
       "Customer ID    107927\n",
       "Description      2928\n",
       "Invoice             0\n",
       "StockCode           0\n",
       "Quantity            0\n",
       "InvoiceDate         0\n",
       "Price               0\n",
       "Country             0\n",
       "dtype: int64"
      ]
     },
     "execution_count": 17,
     "metadata": {},
     "output_type": "execute_result"
    }
   ],
   "source": [
    "# 결측치의 합계를 구해서 내림차순으로 정렬하기\n",
    "df.isnull().sum().sort_values(ascending=False)"
   ]
  },
  {
   "cell_type": "markdown",
   "id": "359ebafb-4689-4b98-ae8d-40754eb83bab",
   "metadata": {},
   "source": [
    "데이터세트에서 값이 이상한 데이터와 중복 데이터를 제거합니다. "
   ]
  },
  {
   "cell_type": "code",
   "execution_count": 19,
   "id": "09839760-5565-4e16-8c4f-25fe3df4016e",
   "metadata": {},
   "outputs": [],
   "source": [
    "# 제품 수량과 가격이 0 이하인 데이터를 제거하기\n",
    "df = df[(df['Quantity']>0) & (df['Price']>0)] \n",
    "\n",
    "# 중복 데이터를 제거하기\n",
    "df = df.drop_duplicates()"
   ]
  },
  {
   "cell_type": "markdown",
   "id": "33caf0cf-405b-4933-a6b2-1edecc93c027",
   "metadata": {},
   "source": [
    "### 2) RFM 분석 기법을 이용한 고객 분류하기\n",
    "RFM 모델을 구축하는 첫 번째 단계는 각 고객에게 Recency(구매 최신성), Frequency(구매 빈도) 및 Monetary(구매 금액)을 할당하는 것입니다. 해당 데이터에서 RFM 지표가 의미하는 것은 다음과 같습니다. \n",
    "\n",
    "#### (1) RFM 지표 계산하기\n",
    "* Recency(구매 최신성)：고객이 가장 최근에 트랜잭션을 수행한 이후 경과된 시간이며, 일 단위로 측정됩니다. \n",
    "* Frequency(구매 빈도)：고객이 수행한 총 트랜잭션 수입니다. \n",
    "* Monetary(구매 금액)：고객이 모든 거래에서 지출한 총금액입니다. "
   ]
  },
  {
   "cell_type": "code",
   "execution_count": 20,
   "id": "4f3db566-61e5-4ad9-88a0-f3ec017aa14f",
   "metadata": {},
   "outputs": [
    {
     "data": {
      "text/html": [
       "<div>\n",
       "<style scoped>\n",
       "    .dataframe tbody tr th:only-of-type {\n",
       "        vertical-align: middle;\n",
       "    }\n",
       "\n",
       "    .dataframe tbody tr th {\n",
       "        vertical-align: top;\n",
       "    }\n",
       "\n",
       "    .dataframe thead th {\n",
       "        text-align: right;\n",
       "    }\n",
       "</style>\n",
       "<table border=\"1\" class=\"dataframe\">\n",
       "  <thead>\n",
       "    <tr style=\"text-align: right;\">\n",
       "      <th></th>\n",
       "      <th>InvoiceDate</th>\n",
       "      <th>Invoice</th>\n",
       "      <th>Amount</th>\n",
       "    </tr>\n",
       "    <tr>\n",
       "      <th>Customer ID</th>\n",
       "      <th></th>\n",
       "      <th></th>\n",
       "      <th></th>\n",
       "    </tr>\n",
       "  </thead>\n",
       "  <tbody>\n",
       "    <tr>\n",
       "      <th>12346.0</th>\n",
       "      <td>165</td>\n",
       "      <td>11</td>\n",
       "      <td>372.86</td>\n",
       "    </tr>\n",
       "    <tr>\n",
       "      <th>12347.0</th>\n",
       "      <td>3</td>\n",
       "      <td>2</td>\n",
       "      <td>1323.32</td>\n",
       "    </tr>\n",
       "    <tr>\n",
       "      <th>12348.0</th>\n",
       "      <td>74</td>\n",
       "      <td>1</td>\n",
       "      <td>222.16</td>\n",
       "    </tr>\n",
       "    <tr>\n",
       "      <th>12349.0</th>\n",
       "      <td>43</td>\n",
       "      <td>3</td>\n",
       "      <td>2671.14</td>\n",
       "    </tr>\n",
       "    <tr>\n",
       "      <th>12351.0</th>\n",
       "      <td>11</td>\n",
       "      <td>1</td>\n",
       "      <td>300.93</td>\n",
       "    </tr>\n",
       "  </tbody>\n",
       "</table>\n",
       "</div>"
      ],
      "text/plain": [
       "             InvoiceDate  Invoice   Amount\n",
       "Customer ID                               \n",
       "12346.0              165       11   372.86\n",
       "12347.0                3        2  1323.32\n",
       "12348.0               74        1   222.16\n",
       "12349.0               43        3  2671.14\n",
       "12351.0               11        1   300.93"
      ]
     },
     "execution_count": 20,
     "metadata": {},
     "output_type": "execute_result"
    }
   ],
   "source": [
    "# 최신성(Recency) 값을 계산하기 위해 마지막 날짜의 다음날을 계산하기\n",
    "last_date = df.InvoiceDate.max() +  datetime.timedelta(days=1)\n",
    "\n",
    "# 구매수량과 제품가격을 곱하여 구매금액을 계산하기\n",
    "df['Amount'] = df['Quantity'] * df['Price']\n",
    "\n",
    "# groupby 함수로 고객별로 최근 구매 경과일, 구매건수, 구매금액 합계를 구하기\n",
    "rfm = df.groupby('Customer ID').agg(\n",
    "{'InvoiceDate': lambda InvoiceDate: (last_date - InvoiceDate.max()).days, \n",
    " 'Invoice': lambda Invoice: Invoice.nunique(),\n",
    " 'Amount': lambda Amount: Amount.sum()})\n",
    "\n",
    "rfm.head()"
   ]
  },
  {
   "cell_type": "markdown",
   "id": "6eeab88f-e58b-4a57-a623-f302e16dfc5d",
   "metadata": {},
   "source": [
    "데이터프레임의 칼럼 이름을 recency, frequency, monetary로 변경합니다. "
   ]
  },
  {
   "cell_type": "code",
   "execution_count": 21,
   "id": "01638cdc-0e5d-4a1e-a0ac-c346039ec611",
   "metadata": {},
   "outputs": [
    {
     "data": {
      "text/html": [
       "<div>\n",
       "<style scoped>\n",
       "    .dataframe tbody tr th:only-of-type {\n",
       "        vertical-align: middle;\n",
       "    }\n",
       "\n",
       "    .dataframe tbody tr th {\n",
       "        vertical-align: top;\n",
       "    }\n",
       "\n",
       "    .dataframe thead th {\n",
       "        text-align: right;\n",
       "    }\n",
       "</style>\n",
       "<table border=\"1\" class=\"dataframe\">\n",
       "  <thead>\n",
       "    <tr style=\"text-align: right;\">\n",
       "      <th></th>\n",
       "      <th>recency</th>\n",
       "      <th>frequency</th>\n",
       "      <th>monetary</th>\n",
       "    </tr>\n",
       "    <tr>\n",
       "      <th>Customer ID</th>\n",
       "      <th></th>\n",
       "      <th></th>\n",
       "      <th></th>\n",
       "    </tr>\n",
       "  </thead>\n",
       "  <tbody>\n",
       "    <tr>\n",
       "      <th>12346.0</th>\n",
       "      <td>165</td>\n",
       "      <td>11</td>\n",
       "      <td>372.86</td>\n",
       "    </tr>\n",
       "    <tr>\n",
       "      <th>12347.0</th>\n",
       "      <td>3</td>\n",
       "      <td>2</td>\n",
       "      <td>1323.32</td>\n",
       "    </tr>\n",
       "    <tr>\n",
       "      <th>12348.0</th>\n",
       "      <td>74</td>\n",
       "      <td>1</td>\n",
       "      <td>222.16</td>\n",
       "    </tr>\n",
       "    <tr>\n",
       "      <th>12349.0</th>\n",
       "      <td>43</td>\n",
       "      <td>3</td>\n",
       "      <td>2671.14</td>\n",
       "    </tr>\n",
       "    <tr>\n",
       "      <th>12351.0</th>\n",
       "      <td>11</td>\n",
       "      <td>1</td>\n",
       "      <td>300.93</td>\n",
       "    </tr>\n",
       "  </tbody>\n",
       "</table>\n",
       "</div>"
      ],
      "text/plain": [
       "             recency  frequency  monetary\n",
       "Customer ID                              \n",
       "12346.0          165         11    372.86\n",
       "12347.0            3          2   1323.32\n",
       "12348.0           74          1    222.16\n",
       "12349.0           43          3   2671.14\n",
       "12351.0           11          1    300.93"
      ]
     },
     "execution_count": 21,
     "metadata": {},
     "output_type": "execute_result"
    }
   ],
   "source": [
    "# 데이터프레임의 칼럼명 변경하기\n",
    "rfm.columns = ['recency', 'frequency', 'monetary']\n",
    "rfm.head()"
   ]
  },
  {
   "cell_type": "markdown",
   "id": "b2b89dfe-9b3b-47e3-9b2d-71692fef8c09",
   "metadata": {},
   "source": [
    "### (2) 고객 점수 계산하기\n",
    "각 고객에 대해 구매 최신성, 구매 빈도, 구매 금액을 1에서 5까지 점수로 환산하고, 이를 모두 합산하여 고객 점수(customer_score)를 계산합니다. 판다스의 qcut() 함수로 구매 최신성, 구매빈도, 구매 금액을 5개 구간으로 나누고, 각 구간에 1에서 5까지 점수를 부여합니다. \n",
    "* recency_score는 최신성(Recency)이 적을수록 점수가 높습니다. \n",
    "* frequency_score는 구매 빈도(Frequency)가 높을수록 점수가 높습니다. \n",
    "* monetary_score는 구매 금액(Monetary)이 클수록 점수가 높습니다. "
   ]
  },
  {
   "cell_type": "code",
   "execution_count": 22,
   "id": "e5b516c4-8cab-4ef2-9d77-a1ba41aaec1f",
   "metadata": {},
   "outputs": [
    {
     "data": {
      "text/html": [
       "<div>\n",
       "<style scoped>\n",
       "    .dataframe tbody tr th:only-of-type {\n",
       "        vertical-align: middle;\n",
       "    }\n",
       "\n",
       "    .dataframe tbody tr th {\n",
       "        vertical-align: top;\n",
       "    }\n",
       "\n",
       "    .dataframe thead th {\n",
       "        text-align: right;\n",
       "    }\n",
       "</style>\n",
       "<table border=\"1\" class=\"dataframe\">\n",
       "  <thead>\n",
       "    <tr style=\"text-align: right;\">\n",
       "      <th></th>\n",
       "      <th>recency</th>\n",
       "      <th>frequency</th>\n",
       "      <th>monetary</th>\n",
       "      <th>recency_score</th>\n",
       "      <th>frequency_score</th>\n",
       "      <th>monetary_score</th>\n",
       "      <th>customer_score</th>\n",
       "    </tr>\n",
       "    <tr>\n",
       "      <th>Customer ID</th>\n",
       "      <th></th>\n",
       "      <th></th>\n",
       "      <th></th>\n",
       "      <th></th>\n",
       "      <th></th>\n",
       "      <th></th>\n",
       "      <th></th>\n",
       "    </tr>\n",
       "  </thead>\n",
       "  <tbody>\n",
       "    <tr>\n",
       "      <th>12346.0</th>\n",
       "      <td>165</td>\n",
       "      <td>11</td>\n",
       "      <td>372.86</td>\n",
       "      <td>2</td>\n",
       "      <td>5</td>\n",
       "      <td>2</td>\n",
       "      <td>9</td>\n",
       "    </tr>\n",
       "    <tr>\n",
       "      <th>12347.0</th>\n",
       "      <td>3</td>\n",
       "      <td>2</td>\n",
       "      <td>1323.32</td>\n",
       "      <td>5</td>\n",
       "      <td>2</td>\n",
       "      <td>4</td>\n",
       "      <td>11</td>\n",
       "    </tr>\n",
       "    <tr>\n",
       "      <th>12348.0</th>\n",
       "      <td>74</td>\n",
       "      <td>1</td>\n",
       "      <td>222.16</td>\n",
       "      <td>2</td>\n",
       "      <td>1</td>\n",
       "      <td>1</td>\n",
       "      <td>4</td>\n",
       "    </tr>\n",
       "    <tr>\n",
       "      <th>12349.0</th>\n",
       "      <td>43</td>\n",
       "      <td>3</td>\n",
       "      <td>2671.14</td>\n",
       "      <td>3</td>\n",
       "      <td>3</td>\n",
       "      <td>5</td>\n",
       "      <td>11</td>\n",
       "    </tr>\n",
       "    <tr>\n",
       "      <th>12351.0</th>\n",
       "      <td>11</td>\n",
       "      <td>1</td>\n",
       "      <td>300.93</td>\n",
       "      <td>5</td>\n",
       "      <td>1</td>\n",
       "      <td>2</td>\n",
       "      <td>8</td>\n",
       "    </tr>\n",
       "    <tr>\n",
       "      <th>12352.0</th>\n",
       "      <td>11</td>\n",
       "      <td>2</td>\n",
       "      <td>343.80</td>\n",
       "      <td>5</td>\n",
       "      <td>2</td>\n",
       "      <td>2</td>\n",
       "      <td>9</td>\n",
       "    </tr>\n",
       "    <tr>\n",
       "      <th>12353.0</th>\n",
       "      <td>44</td>\n",
       "      <td>1</td>\n",
       "      <td>317.76</td>\n",
       "      <td>3</td>\n",
       "      <td>1</td>\n",
       "      <td>2</td>\n",
       "      <td>6</td>\n",
       "    </tr>\n",
       "    <tr>\n",
       "      <th>12355.0</th>\n",
       "      <td>203</td>\n",
       "      <td>1</td>\n",
       "      <td>488.21</td>\n",
       "      <td>1</td>\n",
       "      <td>1</td>\n",
       "      <td>2</td>\n",
       "      <td>4</td>\n",
       "    </tr>\n",
       "    <tr>\n",
       "      <th>12356.0</th>\n",
       "      <td>16</td>\n",
       "      <td>3</td>\n",
       "      <td>3560.30</td>\n",
       "      <td>4</td>\n",
       "      <td>3</td>\n",
       "      <td>5</td>\n",
       "      <td>12</td>\n",
       "    </tr>\n",
       "    <tr>\n",
       "      <th>12357.0</th>\n",
       "      <td>24</td>\n",
       "      <td>2</td>\n",
       "      <td>12079.99</td>\n",
       "      <td>4</td>\n",
       "      <td>2</td>\n",
       "      <td>5</td>\n",
       "      <td>11</td>\n",
       "    </tr>\n",
       "  </tbody>\n",
       "</table>\n",
       "</div>"
      ],
      "text/plain": [
       "             recency  frequency  monetary  recency_score  frequency_score  \\\n",
       "Customer ID                                                                 \n",
       "12346.0          165         11    372.86              2                5   \n",
       "12347.0            3          2   1323.32              5                2   \n",
       "12348.0           74          1    222.16              2                1   \n",
       "12349.0           43          3   2671.14              3                3   \n",
       "12351.0           11          1    300.93              5                1   \n",
       "12352.0           11          2    343.80              5                2   \n",
       "12353.0           44          1    317.76              3                1   \n",
       "12355.0          203          1    488.21              1                1   \n",
       "12356.0           16          3   3560.30              4                3   \n",
       "12357.0           24          2  12079.99              4                2   \n",
       "\n",
       "             monetary_score  customer_score  \n",
       "Customer ID                                  \n",
       "12346.0                   2               9  \n",
       "12347.0                   4              11  \n",
       "12348.0                   1               4  \n",
       "12349.0                   5              11  \n",
       "12351.0                   2               8  \n",
       "12352.0                   2               9  \n",
       "12353.0                   2               6  \n",
       "12355.0                   2               4  \n",
       "12356.0                   5              12  \n",
       "12357.0                   5              11  "
      ]
     },
     "execution_count": 22,
     "metadata": {},
     "output_type": "execute_result"
    }
   ],
   "source": [
    "# 최신성, 구매빈도, 구매금액을 1에서 5까지의 점수로 환산하기\n",
    "rfm['recency_score'] = pd.qcut(rfm['recency'], 5, \n",
    "                            labels=[5, 4, 3, 2, 1]).astype(int)\n",
    "rfm['frequency_score'] = pd.qcut(rfm['frequency'].rank(method=\"first\"), 5, \n",
    "                            labels=[1, 2, 3, 4, 5]).astype(int)\n",
    "rfm['monetary_score'] = pd.qcut(rfm['monetary'], 5, \n",
    "                            labels=[1, 2, 3, 4, 5]).astype(int)\n",
    "\n",
    "# 최신성, 구매빈도, 구매금액의 환산점수 합계를 고객 점수(customer_score)로 저장하기\n",
    "rfm['customer_score'] = rfm['recency_score'] + \\\n",
    "                        rfm['frequency_score'] + rfm['monetary_score']\n",
    "\n",
    "# 데이터 확인하기\n",
    "rfm.head(10)"
   ]
  },
  {
   "cell_type": "markdown",
   "id": "4db7cfe8-9b33-4594-8401-7b077054997a",
   "metadata": {},
   "source": [
    "customer_score로 회사 매출에 큰 도움이 되는 고객을 식별할 수 있습니다. "
   ]
  },
  {
   "cell_type": "code",
   "execution_count": 23,
   "id": "acb5d661-0049-4cc9-8fb3-0fac1272f430",
   "metadata": {},
   "outputs": [
    {
     "data": {
      "text/html": [
       "<div>\n",
       "<style scoped>\n",
       "    .dataframe tbody tr th:only-of-type {\n",
       "        vertical-align: middle;\n",
       "    }\n",
       "\n",
       "    .dataframe tbody tr th {\n",
       "        vertical-align: top;\n",
       "    }\n",
       "\n",
       "    .dataframe thead th {\n",
       "        text-align: right;\n",
       "    }\n",
       "</style>\n",
       "<table border=\"1\" class=\"dataframe\">\n",
       "  <thead>\n",
       "    <tr style=\"text-align: right;\">\n",
       "      <th></th>\n",
       "      <th>recency</th>\n",
       "      <th>frequency</th>\n",
       "      <th>monetary</th>\n",
       "      <th>recency_score</th>\n",
       "      <th>frequency_score</th>\n",
       "      <th>monetary_score</th>\n",
       "      <th>customer_score</th>\n",
       "    </tr>\n",
       "    <tr>\n",
       "      <th>Customer ID</th>\n",
       "      <th></th>\n",
       "      <th></th>\n",
       "      <th></th>\n",
       "      <th></th>\n",
       "      <th></th>\n",
       "      <th></th>\n",
       "      <th></th>\n",
       "    </tr>\n",
       "  </thead>\n",
       "  <tbody>\n",
       "    <tr>\n",
       "      <th>18102.0</th>\n",
       "      <td>1</td>\n",
       "      <td>89</td>\n",
       "      <td>349164.35</td>\n",
       "      <td>5</td>\n",
       "      <td>5</td>\n",
       "      <td>5</td>\n",
       "      <td>15</td>\n",
       "    </tr>\n",
       "    <tr>\n",
       "      <th>14646.0</th>\n",
       "      <td>10</td>\n",
       "      <td>78</td>\n",
       "      <td>248396.50</td>\n",
       "      <td>5</td>\n",
       "      <td>5</td>\n",
       "      <td>5</td>\n",
       "      <td>15</td>\n",
       "    </tr>\n",
       "    <tr>\n",
       "      <th>14156.0</th>\n",
       "      <td>7</td>\n",
       "      <td>102</td>\n",
       "      <td>196549.74</td>\n",
       "      <td>5</td>\n",
       "      <td>5</td>\n",
       "      <td>5</td>\n",
       "      <td>15</td>\n",
       "    </tr>\n",
       "    <tr>\n",
       "      <th>14911.0</th>\n",
       "      <td>1</td>\n",
       "      <td>205</td>\n",
       "      <td>152121.22</td>\n",
       "      <td>5</td>\n",
       "      <td>5</td>\n",
       "      <td>5</td>\n",
       "      <td>15</td>\n",
       "    </tr>\n",
       "    <tr>\n",
       "      <th>13694.0</th>\n",
       "      <td>9</td>\n",
       "      <td>94</td>\n",
       "      <td>131443.19</td>\n",
       "      <td>5</td>\n",
       "      <td>5</td>\n",
       "      <td>5</td>\n",
       "      <td>15</td>\n",
       "    </tr>\n",
       "  </tbody>\n",
       "</table>\n",
       "</div>"
      ],
      "text/plain": [
       "             recency  frequency   monetary  recency_score  frequency_score  \\\n",
       "Customer ID                                                                  \n",
       "18102.0            1         89  349164.35              5                5   \n",
       "14646.0           10         78  248396.50              5                5   \n",
       "14156.0            7        102  196549.74              5                5   \n",
       "14911.0            1        205  152121.22              5                5   \n",
       "13694.0            9         94  131443.19              5                5   \n",
       "\n",
       "             monetary_score  customer_score  \n",
       "Customer ID                                  \n",
       "18102.0                   5              15  \n",
       "14646.0                   5              15  \n",
       "14156.0                   5              15  \n",
       "14911.0                   5              15  \n",
       "13694.0                   5              15  "
      ]
     },
     "execution_count": 23,
     "metadata": {},
     "output_type": "execute_result"
    }
   ],
   "source": [
    "# 고객 점수(customer_score)가 만점(15점)인 고객 ID 확인하기\n",
    "rfm[rfm['customer_score']==15].sort_values(\n",
    "    'monetary', ascending=False).head()"
   ]
  },
  {
   "cell_type": "markdown",
   "id": "86201986-21c0-4c66-8f4e-ebd45e9fca64",
   "metadata": {},
   "source": [
    "customer_score에 따라 고객을 4단계(VIP, GOLD, SILVER, WHITE) 등급으로 분류합니다. "
   ]
  },
  {
   "cell_type": "code",
   "execution_count": 25,
   "id": "c11d7cc0-b65a-4250-a320-a33f80e7522d",
   "metadata": {},
   "outputs": [
    {
     "data": {
      "text/html": [
       "<div>\n",
       "<style scoped>\n",
       "    .dataframe tbody tr th:only-of-type {\n",
       "        vertical-align: middle;\n",
       "    }\n",
       "\n",
       "    .dataframe tbody tr th {\n",
       "        vertical-align: top;\n",
       "    }\n",
       "\n",
       "    .dataframe thead th {\n",
       "        text-align: right;\n",
       "    }\n",
       "</style>\n",
       "<table border=\"1\" class=\"dataframe\">\n",
       "  <thead>\n",
       "    <tr style=\"text-align: right;\">\n",
       "      <th></th>\n",
       "      <th>recency</th>\n",
       "      <th>frequency</th>\n",
       "      <th>monetary</th>\n",
       "      <th>recency_score</th>\n",
       "      <th>frequency_score</th>\n",
       "      <th>monetary_score</th>\n",
       "      <th>customer_score</th>\n",
       "      <th>level</th>\n",
       "    </tr>\n",
       "    <tr>\n",
       "      <th>Customer ID</th>\n",
       "      <th></th>\n",
       "      <th></th>\n",
       "      <th></th>\n",
       "      <th></th>\n",
       "      <th></th>\n",
       "      <th></th>\n",
       "      <th></th>\n",
       "      <th></th>\n",
       "    </tr>\n",
       "  </thead>\n",
       "  <tbody>\n",
       "    <tr>\n",
       "      <th>12346.0</th>\n",
       "      <td>165</td>\n",
       "      <td>11</td>\n",
       "      <td>372.86</td>\n",
       "      <td>2</td>\n",
       "      <td>5</td>\n",
       "      <td>2</td>\n",
       "      <td>9</td>\n",
       "      <td>SILVER</td>\n",
       "    </tr>\n",
       "    <tr>\n",
       "      <th>12347.0</th>\n",
       "      <td>3</td>\n",
       "      <td>2</td>\n",
       "      <td>1323.32</td>\n",
       "      <td>5</td>\n",
       "      <td>2</td>\n",
       "      <td>4</td>\n",
       "      <td>11</td>\n",
       "      <td>GOLD</td>\n",
       "    </tr>\n",
       "    <tr>\n",
       "      <th>12348.0</th>\n",
       "      <td>74</td>\n",
       "      <td>1</td>\n",
       "      <td>222.16</td>\n",
       "      <td>2</td>\n",
       "      <td>1</td>\n",
       "      <td>1</td>\n",
       "      <td>4</td>\n",
       "      <td>WHITE</td>\n",
       "    </tr>\n",
       "    <tr>\n",
       "      <th>12349.0</th>\n",
       "      <td>43</td>\n",
       "      <td>3</td>\n",
       "      <td>2671.14</td>\n",
       "      <td>3</td>\n",
       "      <td>3</td>\n",
       "      <td>5</td>\n",
       "      <td>11</td>\n",
       "      <td>GOLD</td>\n",
       "    </tr>\n",
       "    <tr>\n",
       "      <th>12351.0</th>\n",
       "      <td>11</td>\n",
       "      <td>1</td>\n",
       "      <td>300.93</td>\n",
       "      <td>5</td>\n",
       "      <td>1</td>\n",
       "      <td>2</td>\n",
       "      <td>8</td>\n",
       "      <td>SILVER</td>\n",
       "    </tr>\n",
       "  </tbody>\n",
       "</table>\n",
       "</div>"
      ],
      "text/plain": [
       "             recency  frequency  monetary  recency_score  frequency_score  \\\n",
       "Customer ID                                                                 \n",
       "12346.0          165         11    372.86              2                5   \n",
       "12347.0            3          2   1323.32              5                2   \n",
       "12348.0           74          1    222.16              2                1   \n",
       "12349.0           43          3   2671.14              3                3   \n",
       "12351.0           11          1    300.93              5                1   \n",
       "\n",
       "             monetary_score  customer_score   level  \n",
       "Customer ID                                          \n",
       "12346.0                   2               9  SILVER  \n",
       "12347.0                   4              11    GOLD  \n",
       "12348.0                   1               4   WHITE  \n",
       "12349.0                   5              11    GOLD  \n",
       "12351.0                   2               8  SILVER  "
      ]
     },
     "execution_count": 25,
     "metadata": {},
     "output_type": "execute_result"
    }
   ],
   "source": [
    "# 고객 등급 분류 함수 만들기\n",
    "def level(score):\n",
    "    if  score > 12 :\n",
    "        return 'VIP'\n",
    "    elif 9 < score <= 12:\n",
    "        return 'GOLD'\n",
    "    elif 5 < score <= 9 :\n",
    "        return 'SILVER'\n",
    "    else:\n",
    "        return 'WHITE'\n",
    "    \n",
    "# 고객 등급 분류 함수를 적용하여 고객 등급(level) 데이터 생성하기\n",
    "rfm['level'] = rfm['customer_score'].apply(\n",
    "    lambda customer_score : level(customer_score))\n",
    "rfm.head()"
   ]
  },
  {
   "cell_type": "markdown",
   "id": "54c0b9b1-b18f-4c48-a299-55e5923f6cd0",
   "metadata": {},
   "source": [
    "고객 등급별 고객 수를 그래프로 출력합니다. "
   ]
  },
  {
   "cell_type": "code",
   "execution_count": 26,
   "id": "07992311-46d9-4b9a-a3df-2bb82b992d16",
   "metadata": {},
   "outputs": [
    {
     "data": {
      "text/plain": [
       "<Axes: xlabel='level', ylabel='count'>"
      ]
     },
     "execution_count": 26,
     "metadata": {},
     "output_type": "execute_result"
    },
    {
     "data": {
      "image/png": "[encoded data removed]",
      "text/plain": [
       "<Figure size 640x480 with 1 Axes>"
      ]
     },
     "metadata": {},
     "output_type": "display_data"
    }
   ],
   "source": [
    "# 고객 등급별 고객 수 그래프 출력하기\n",
    "sns.countplot(x=rfm['level'])"
   ]
  },
  {
   "cell_type": "markdown",
   "id": "1604ab69-6592-42ac-a076-c9da381c6906",
   "metadata": {},
   "source": [
    "### 3) K-평균 군집화 알고리즘을 이용한 고객 분류하기\n",
    "구매 행동에 따른 고객 세분화(Customer Segmentation)를 기반으로 다양한 그룹/클러스터를 식별하기 위해 비지도학습 방법을 적용해 봅니다. 전체 클러스터는 recency(구매 최신성), frequency(구매 빈도), monetary(구매 금액) 3가지 요소를 기반으로 합니다. <br>\n",
    "데이터의 통계치를 확인합니다. "
   ]
  },
  {
   "cell_type": "code",
   "execution_count": 27,
   "id": "d100b219-13c9-4a0c-a14d-88037849376e",
   "metadata": {},
   "outputs": [
    {
     "data": {
      "text/html": [
       "<div>\n",
       "<style scoped>\n",
       "    .dataframe tbody tr th:only-of-type {\n",
       "        vertical-align: middle;\n",
       "    }\n",
       "\n",
       "    .dataframe tbody tr th {\n",
       "        vertical-align: top;\n",
       "    }\n",
       "\n",
       "    .dataframe thead th {\n",
       "        text-align: right;\n",
       "    }\n",
       "</style>\n",
       "<table border=\"1\" class=\"dataframe\">\n",
       "  <thead>\n",
       "    <tr style=\"text-align: right;\">\n",
       "      <th></th>\n",
       "      <th>recency</th>\n",
       "      <th>frequency</th>\n",
       "      <th>monetary</th>\n",
       "      <th>recency_score</th>\n",
       "      <th>frequency_score</th>\n",
       "      <th>monetary_score</th>\n",
       "      <th>customer_score</th>\n",
       "    </tr>\n",
       "  </thead>\n",
       "  <tbody>\n",
       "    <tr>\n",
       "      <th>count</th>\n",
       "      <td>4312.000000</td>\n",
       "      <td>4312.000000</td>\n",
       "      <td>4312.000000</td>\n",
       "      <td>4312.000000</td>\n",
       "      <td>4312.000000</td>\n",
       "      <td>4312.000000</td>\n",
       "      <td>4312.000000</td>\n",
       "    </tr>\n",
       "    <tr>\n",
       "      <th>mean</th>\n",
       "      <td>91.171846</td>\n",
       "      <td>4.455705</td>\n",
       "      <td>2040.406712</td>\n",
       "      <td>3.024814</td>\n",
       "      <td>3.000000</td>\n",
       "      <td>3.000000</td>\n",
       "      <td>9.024814</td>\n",
       "    </tr>\n",
       "    <tr>\n",
       "      <th>std</th>\n",
       "      <td>96.860633</td>\n",
       "      <td>8.170213</td>\n",
       "      <td>8911.755977</td>\n",
       "      <td>1.424049</td>\n",
       "      <td>1.414706</td>\n",
       "      <td>1.414706</td>\n",
       "      <td>3.584884</td>\n",
       "    </tr>\n",
       "    <tr>\n",
       "      <th>min</th>\n",
       "      <td>1.000000</td>\n",
       "      <td>1.000000</td>\n",
       "      <td>2.950000</td>\n",
       "      <td>1.000000</td>\n",
       "      <td>1.000000</td>\n",
       "      <td>1.000000</td>\n",
       "      <td>3.000000</td>\n",
       "    </tr>\n",
       "    <tr>\n",
       "      <th>25%</th>\n",
       "      <td>18.000000</td>\n",
       "      <td>1.000000</td>\n",
       "      <td>307.187500</td>\n",
       "      <td>2.000000</td>\n",
       "      <td>2.000000</td>\n",
       "      <td>2.000000</td>\n",
       "      <td>6.000000</td>\n",
       "    </tr>\n",
       "    <tr>\n",
       "      <th>50%</th>\n",
       "      <td>53.000000</td>\n",
       "      <td>2.000000</td>\n",
       "      <td>701.615000</td>\n",
       "      <td>3.000000</td>\n",
       "      <td>3.000000</td>\n",
       "      <td>3.000000</td>\n",
       "      <td>9.000000</td>\n",
       "    </tr>\n",
       "    <tr>\n",
       "      <th>75%</th>\n",
       "      <td>136.000000</td>\n",
       "      <td>5.000000</td>\n",
       "      <td>1714.932500</td>\n",
       "      <td>4.000000</td>\n",
       "      <td>4.000000</td>\n",
       "      <td>4.000000</td>\n",
       "      <td>12.000000</td>\n",
       "    </tr>\n",
       "    <tr>\n",
       "      <th>max</th>\n",
       "      <td>374.000000</td>\n",
       "      <td>205.000000</td>\n",
       "      <td>349164.350000</td>\n",
       "      <td>5.000000</td>\n",
       "      <td>5.000000</td>\n",
       "      <td>5.000000</td>\n",
       "      <td>15.000000</td>\n",
       "    </tr>\n",
       "  </tbody>\n",
       "</table>\n",
       "</div>"
      ],
      "text/plain": [
       "           recency    frequency       monetary  recency_score  \\\n",
       "count  4312.000000  4312.000000    4312.000000    4312.000000   \n",
       "mean     91.171846     4.455705    2040.406712       3.024814   \n",
       "std      96.860633     8.170213    8911.755977       1.424049   \n",
       "min       1.000000     1.000000       2.950000       1.000000   \n",
       "25%      18.000000     1.000000     307.187500       2.000000   \n",
       "50%      53.000000     2.000000     701.615000       3.000000   \n",
       "75%     136.000000     5.000000    1714.932500       4.000000   \n",
       "max     374.000000   205.000000  349164.350000       5.000000   \n",
       "\n",
       "       frequency_score  monetary_score  customer_score  \n",
       "count      4312.000000     4312.000000     4312.000000  \n",
       "mean          3.000000        3.000000        9.024814  \n",
       "std           1.414706        1.414706        3.584884  \n",
       "min           1.000000        1.000000        3.000000  \n",
       "25%           2.000000        2.000000        6.000000  \n",
       "50%           3.000000        3.000000        9.000000  \n",
       "75%           4.000000        4.000000       12.000000  \n",
       "max           5.000000        5.000000       15.000000  "
      ]
     },
     "execution_count": 27,
     "metadata": {},
     "output_type": "execute_result"
    }
   ],
   "source": [
    "# 데이터프레임의 요약 통계량 확인하기\n",
    "rfm.describe()"
   ]
  },
  {
   "cell_type": "markdown",
   "id": "952b4591-6b38-4c45-90f7-50bd951b4c7e",
   "metadata": {},
   "source": [
    "#### (1) 이상치 제거하기\n",
    "이상치(outlier)를 구하기 위해서는 중간 50% 데이터가 분포하는 범위를 나타내는 사분위수 범위(IOR)를 먼저 계산합니다.<br> \n",
    "이상치는 Q1(=1분위수)-1.5×IOR보다 작거나, Q3(=3분위수)+1.5×IOR보다 큰 값들입니다. 먼저 여러 칼럼에 쉽게 적용할 수 있도록 이상치 제거 함수를 작성합니다. 데이터프레임과 칼럼명을 매개변수로 전달하고, 해당 칼럼의 이상치가 제거된 데이터프레임을 반환하는 함수입니다. "
   ]
  },
  {
   "cell_type": "code",
   "execution_count": 28,
   "id": "7bfab172-3bb0-40b5-802f-45cb020e7aa5",
   "metadata": {},
   "outputs": [],
   "source": [
    "#이상치 제거 함수 작성하기\n",
    "\n",
    "def processing_outlier(df, col_nm):    \n",
    "    Q1 = df[col_nm].quantile(0.25)\n",
    "    Q3 = df[col_nm].quantile(0.75)\n",
    "    IQR = Q3 - Q1\n",
    "    df = df[(df[col_nm] >= Q1 - 1.5*IQR) & (df[col_nm] <= Q3 + 1.5*IQR)]\n",
    "    return df"
   ]
  },
  {
   "cell_type": "markdown",
   "id": "f77f2eb0-3351-4815-8885-dbe3eada20d3",
   "metadata": {},
   "source": [
    "이상치 제거 전후 차이를 비교하기 위해 이상치 제거 전 데이터를 임시로 저장합니다. "
   ]
  },
  {
   "cell_type": "code",
   "execution_count": 30,
   "id": "ffbed275-b4e9-4884-9b4f-431db52bc539",
   "metadata": {},
   "outputs": [],
   "source": [
    "# 비교를 위해 이상치 제거 전 데이터 저장하기\n",
    "rfm_tmp = rfm.copy()"
   ]
  },
  {
   "cell_type": "markdown",
   "id": "5591edd3-a339-48c1-a1d6-0d4febc3984e",
   "metadata": {},
   "source": [
    "recency 칼럼의 이상치를 제거하고 이상치 제거 전후의 recency 데이터의 분포를 시각화하여 비교해 봅니다. 좌측의 그래프가 이상치를 제거하기 전이며 우측의 그래프가 이상치를 제거한 후의 결과입니다. "
   ]
  },
  {
   "cell_type": "code",
   "execution_count": 31,
   "id": "d1941c3f-5316-4092-afdb-11dd21a4fcc2",
   "metadata": {},
   "outputs": [
    {
     "data": {
      "text/plain": [
       "{'whiskers': [<matplotlib.lines.Line2D at 0x1fb91361c10>,\n",
       "  <matplotlib.lines.Line2D at 0x1fb91361eb0>],\n",
       " 'caps': [<matplotlib.lines.Line2D at 0x1fb93a03190>,\n",
       "  <matplotlib.lines.Line2D at 0x1fb93a03430>],\n",
       " 'boxes': [<matplotlib.lines.Line2D at 0x1fb91361970>],\n",
       " 'medians': [<matplotlib.lines.Line2D at 0x1fb93a036d0>],\n",
       " 'fliers': [<matplotlib.lines.Line2D at 0x1fb93a03970>],\n",
       " 'means': []}"
      ]
     },
     "execution_count": 31,
     "metadata": {},
     "output_type": "execute_result"
    },
    {
     "data": {
      "image/png": "[encoded data removed]",
      "text/plain": [
       "<Figure size 1400x500 with 2 Axes>"
      ]
     },
     "metadata": {},
     "output_type": "display_data"
    }
   ],
   "source": [
    "# recency 이상치 제거하기\n",
    "rfm = processing_outlier(rfm, 'recency')\n",
    "\n",
    "# 이상치 제거 전후 비교하기\n",
    "fig = plt.figure(figsize=(14, 5)) # 그림 사이즈 지정 (가로 14인치, 세로 5인치)\n",
    "ax1 = fig.add_subplot(1, 2, 1)\n",
    "ax2 = fig.add_subplot(1, 2, 2)\n",
    "\n",
    "# 이상치 제거 전 그래프 시각화\n",
    "ax1.boxplot(rfm_tmp.recency)\n",
    "\n",
    "# 이상치 제거 후 그래프 시각화\n",
    "ax2.boxplot(rfm.recency) "
   ]
  },
  {
   "cell_type": "markdown",
   "id": "2f1ef67f-48f4-4d4e-85fa-ac681059dc5e",
   "metadata": {},
   "source": [
    "동일하게 frequency 칼럼의 이상치를 제거하고 이상치 제거 전후의 frequency 데이터의 분포를 시각화하여 비교합니다. "
   ]
  },
  {
   "cell_type": "code",
   "execution_count": 32,
   "id": "2c5b3b68-662d-43e1-b95f-6ab23c1d180f",
   "metadata": {},
   "outputs": [
    {
     "data": {
      "text/plain": [
       "{'whiskers': [<matplotlib.lines.Line2D at 0x1fb94dc92e0>,\n",
       "  <matplotlib.lines.Line2D at 0x1fb94dc9580>],\n",
       " 'caps': [<matplotlib.lines.Line2D at 0x1fb94dc9820>,\n",
       "  <matplotlib.lines.Line2D at 0x1fb94dc9ac0>],\n",
       " 'boxes': [<matplotlib.lines.Line2D at 0x1fb94dc9040>],\n",
       " 'medians': [<matplotlib.lines.Line2D at 0x1fb94dc9d60>],\n",
       " 'fliers': [<matplotlib.lines.Line2D at 0x1fb889df040>],\n",
       " 'means': []}"
      ]
     },
     "execution_count": 32,
     "metadata": {},
     "output_type": "execute_result"
    },
    {
     "data": {
      "image/png": "[encoded data removed]",
      "text/plain": [
       "<Figure size 1400x500 with 2 Axes>"
      ]
     },
     "metadata": {},
     "output_type": "display_data"
    }
   ],
   "source": [
    "# frequency 이상치 제거하기\n",
    "rfm = processing_outlier(rfm, 'frequency')\n",
    "\n",
    "# 이상치 제거 전후 비교하기\n",
    "fig = plt.figure(figsize=(14, 5)) # 그림 사이즈 지정 (가로 14인치, 세로 5인치)\n",
    "ax1 = fig.add_subplot(1, 2, 1)\n",
    "ax2 = fig.add_subplot(1, 2, 2)\n",
    "\n",
    "# 이상치 제거 전 그래프 시각화\n",
    "ax1.boxplot(rfm_tmp.frequency) \n",
    "\n",
    "# 이상치 제거 후 그래프 시각화\n",
    "ax2.boxplot(rfm.frequency) "
   ]
  },
  {
   "cell_type": "markdown",
   "id": "545edf30-1853-4b79-b4c6-5539db5f173f",
   "metadata": {},
   "source": [
    "monetary 칼럼에서도 이상치를 제거합니다. "
   ]
  },
  {
   "cell_type": "code",
   "execution_count": 34,
   "id": "170f6bbe-feb5-4bd1-b52a-744d9c2f1c24",
   "metadata": {},
   "outputs": [
    {
     "data": {
      "text/plain": [
       "{'whiskers': [<matplotlib.lines.Line2D at 0x1fb88ad2670>,\n",
       "  <matplotlib.lines.Line2D at 0x1fb88ad2910>],\n",
       " 'caps': [<matplotlib.lines.Line2D at 0x1fb88ad2bb0>,\n",
       "  <matplotlib.lines.Line2D at 0x1fb88ad2e50>],\n",
       " 'boxes': [<matplotlib.lines.Line2D at 0x1fb88ad23d0>],\n",
       " 'medians': [<matplotlib.lines.Line2D at 0x1fb88adb130>],\n",
       " 'fliers': [<matplotlib.lines.Line2D at 0x1fb88adb3d0>],\n",
       " 'means': []}"
      ]
     },
     "execution_count": 34,
     "metadata": {},
     "output_type": "execute_result"
    },
    {
     "data": {
      "image/png": "[encoded data removed]",
      "text/plain": [
       "<Figure size 1400x500 with 2 Axes>"
      ]
     },
     "metadata": {},
     "output_type": "display_data"
    }
   ],
   "source": [
    "# monetary 이상치 제거하기\n",
    "rfm = processing_outlier(rfm, 'monetary')\n",
    "\n",
    "# 이상치 제거 전후 비교하기\n",
    "fig = plt.figure(figsize=(14, 5)) # 그림 사이즈 지정 (가로 14인치, 세로 5인치)\n",
    "ax1 = fig.add_subplot(1, 2, 1)\n",
    "ax2 = fig.add_subplot(1, 2, 2)\n",
    "\n",
    "# 이상치 제거 전 그래프 시각화\n",
    "ax1.boxplot(rfm_tmp.monetary)\n",
    "\n",
    "# 이상치 제거 후 그래프 시각화\n",
    "ax2.boxplot(rfm.monetary) "
   ]
  },
  {
   "cell_type": "markdown",
   "id": "21234ccc-5fc6-437e-a29b-648a8cfac4f9",
   "metadata": {},
   "source": [
    "다음으로 사이킷런 StandardScaler 객체로 데이터에 표준화를 적용해 봅니다.<br>\n",
    "`StandardScaler`는 특성들의 평균을 0, 분산을 1로 스케일링하여 정규분포로 만듭니다."
   ]
  },
  {
   "cell_type": "code",
   "execution_count": 36,
   "id": "b3462fd4-45ef-48b3-82cd-eac5e2a06218",
   "metadata": {},
   "outputs": [
    {
     "name": "stdout",
     "output_type": "stream",
     "text": [
      "[[ 0.9212283   3.66836645 -0.65156008]\n",
      " [-1.00622537 -0.39944379  0.61914885]\n",
      " [-0.16147716 -0.8514227  -0.85303709]\n",
      " ...\n",
      " [ 2.47984824 -0.8514227  -0.57917809]\n",
      " [ 0.2906416  -0.39944379  0.5831985 ]\n",
      " [-0.82775744  0.50451404  1.98602394]]\n"
     ]
    }
   ],
   "source": [
    "rfm_k = rfm[['recency','frequency','monetary']]\n",
    "\n",
    "# 데이터 표준화하기\n",
    "scaler = StandardScaler()\n",
    "rfm_scaled = scaler.fit_transform(rfm_k)\n",
    "\n",
    "print(rfm_scaled)"
   ]
  },
  {
   "cell_type": "markdown",
   "id": "48842f8c-0a4c-425c-b13c-6a06bec921a4",
   "metadata": {},
   "source": [
    "최적의 군집 수를 알기 위해 K를 1~10까지 증가시키면서 이너셔를 시각화합니다. "
   ]
  },
  {
   "cell_type": "code",
   "execution_count": 37,
   "id": "b455792f-04c8-421a-9218-c2b490ab01cf",
   "metadata": {},
   "outputs": [
    {
     "data": {
      "image/png": "[encoded data removed]",
      "text/plain": [
       "<Figure size 1000x600 with 1 Axes>"
      ]
     },
     "metadata": {},
     "output_type": "display_data"
    }
   ],
   "source": [
    "ks = range(1,11)\n",
    "inertias=[]\n",
    "for k in ks :\n",
    "    kc = KMeans(n_clusters=k,random_state=42)\n",
    "    kc.fit(rfm_scaled)\n",
    "    cluster = kc.fit_predict(rfm_scaled)\n",
    "    inertias.append(kc.inertia_)\n",
    "\n",
    "# k vs inertia 그래프 그리기\n",
    "plt.subplots(figsize=(10, 6))\n",
    "plt.plot(ks, inertias, \"bo-\")\n",
    "plt.xlabel(\"$k$\", fontsize=14)\n",
    "plt.ylabel('Inertia')\n",
    "plt.annotate('Elbow',\n",
    "             xy=(3, inertias[2]),\n",
    "             xytext=(0.55, 0.55),\n",
    "             textcoords='figure fraction',\n",
    "             fontsize=16,\n",
    "             arrowprops=dict(facecolor='black', shrink=0.1)\n",
    "            )\n",
    "plt.xticks(ks)\n",
    "plt.style.use('ggplot')\n",
    "plt.title('Best Number for KMeans')\n",
    "plt.show()"
   ]
  },
  {
   "cell_type": "markdown",
   "id": "ee81b7cc-e0cb-445a-a748-32c7eb99c653",
   "metadata": {},
   "source": [
    "이너셔를 그린 그래프에서 감소하는 속도가 꺾이는 지점이 최적의 군집 개수입니다.\n",
    "K=3으로 설정하고 군집의 중심을 구합니다. "
   ]
  },
  {
   "cell_type": "code",
   "execution_count": 38,
   "id": "cb2c5af8-f738-4dc3-a7e0-bf6758e79c19",
   "metadata": {},
   "outputs": [
    {
     "name": "stdout",
     "output_type": "stream",
     "text": [
      "Identified Clusters : [0 1 0 ... 0 1 2]\n",
      "Cluster Centers :\n",
      "[[-0.45666668 -0.35194206 -0.37023855]\n",
      " [ 1.57778681 -0.60557194 -0.59240682]\n",
      " [-0.55091102  1.41443323  1.4428903 ]]\n"
     ]
    }
   ],
   "source": [
    "# K를 3으로 설정하고 군집 중심 찾기\n",
    "kc = KMeans(3,random_state=42)\n",
    "kc.fit(rfm_scaled)\n",
    "identified_clusters = kc.fit_predict(rfm_k)\n",
    "clusters_scaled = rfm_k.copy()\n",
    "clusters_scaled['cluster_pred'] = kc.fit_predict(rfm_scaled)\n",
    "\n",
    "print(f'Identified Clusters : {identified_clusters}')\n",
    "print(f'Cluster Centers :\\n{kc.cluster_centers_}')"
   ]
  },
  {
   "cell_type": "code",
   "execution_count": 39,
   "id": "65b2602e-2042-4021-953f-e42f22ef4273",
   "metadata": {},
   "outputs": [
    {
     "data": {
      "image/png": "[encoded data removed]",
      "text/plain": [
       "<Figure size 2500x500 with 1 Axes>"
      ]
     },
     "metadata": {},
     "output_type": "display_data"
    }
   ],
   "source": [
    "# cluster_pred 칼럼의 값별로 count 하기\n",
    "f, ax = plt.subplots(figsize=(25, 5))\n",
    "ax = sns.countplot(x='cluster_pred', data=clusters_scaled)"
   ]
  },
  {
   "cell_type": "code",
   "execution_count": 40,
   "id": "b78365ef-9a85-45b1-b980-a5a20dbeb6fb",
   "metadata": {},
   "outputs": [
    {
     "name": "stdout",
     "output_type": "stream",
     "text": [
      "              recency  frequency  monetary\n",
      "cluster_pred                              \n",
      "0                1904       1904      1904\n",
      "1                 840        840       840\n",
      "2                 835        835       835\n"
     ]
    }
   ],
   "source": [
    "# Pandas groupby 함수로 cluster_pred별 개수 집계하기\n",
    "print(clusters_scaled.groupby(['cluster_pred']).count())"
   ]
  },
  {
   "cell_type": "markdown",
   "id": "923fe7f8-fc9c-455b-b54e-30f46cc7fd14",
   "metadata": {},
   "source": [
    "구매 최신성(recency), 구매 빈도(frequency), 구매 금액(monetary)의 평균값, 최솟값, 최댓값을 구합니다. "
   ]
  },
  {
   "cell_type": "code",
   "execution_count": 41,
   "id": "bce550c1-4083-40ca-8dbc-e3346175280a",
   "metadata": {},
   "outputs": [
    {
     "data": {
      "text/html": [
       "<div>\n",
       "<style scoped>\n",
       "    .dataframe tbody tr th:only-of-type {\n",
       "        vertical-align: middle;\n",
       "    }\n",
       "\n",
       "    .dataframe tbody tr th {\n",
       "        vertical-align: top;\n",
       "    }\n",
       "\n",
       "    .dataframe thead tr th {\n",
       "        text-align: left;\n",
       "    }\n",
       "\n",
       "    .dataframe thead tr:last-of-type th {\n",
       "        text-align: right;\n",
       "    }\n",
       "</style>\n",
       "<table border=\"1\" class=\"dataframe\">\n",
       "  <thead>\n",
       "    <tr>\n",
       "      <th></th>\n",
       "      <th colspan=\"3\" halign=\"left\">recency</th>\n",
       "      <th colspan=\"3\" halign=\"left\">frequency</th>\n",
       "      <th colspan=\"4\" halign=\"left\">monetary</th>\n",
       "    </tr>\n",
       "    <tr>\n",
       "      <th></th>\n",
       "      <th>mean</th>\n",
       "      <th>min</th>\n",
       "      <th>max</th>\n",
       "      <th>mean</th>\n",
       "      <th>min</th>\n",
       "      <th>max</th>\n",
       "      <th>mean</th>\n",
       "      <th>min</th>\n",
       "      <th>max</th>\n",
       "      <th>count</th>\n",
       "    </tr>\n",
       "    <tr>\n",
       "      <th>cluster</th>\n",
       "      <th></th>\n",
       "      <th></th>\n",
       "      <th></th>\n",
       "      <th></th>\n",
       "      <th></th>\n",
       "      <th></th>\n",
       "      <th></th>\n",
       "      <th></th>\n",
       "      <th></th>\n",
       "      <th></th>\n",
       "    </tr>\n",
       "  </thead>\n",
       "  <tbody>\n",
       "    <tr>\n",
       "      <th>0</th>\n",
       "      <td>49.292542</td>\n",
       "      <td>1</td>\n",
       "      <td>151</td>\n",
       "      <td>2.102941</td>\n",
       "      <td>1</td>\n",
       "      <td>7</td>\n",
       "      <td>582.913178</td>\n",
       "      <td>10.95</td>\n",
       "      <td>2253.220</td>\n",
       "      <td>1904</td>\n",
       "    </tr>\n",
       "    <tr>\n",
       "      <th>1</th>\n",
       "      <td>220.392857</td>\n",
       "      <td>127</td>\n",
       "      <td>313</td>\n",
       "      <td>1.544048</td>\n",
       "      <td>1</td>\n",
       "      <td>8</td>\n",
       "      <td>417.119621</td>\n",
       "      <td>3.75</td>\n",
       "      <td>2622.481</td>\n",
       "      <td>840</td>\n",
       "    </tr>\n",
       "    <tr>\n",
       "      <th>2</th>\n",
       "      <td>41.241916</td>\n",
       "      <td>1</td>\n",
       "      <td>270</td>\n",
       "      <td>6.011976</td>\n",
       "      <td>1</td>\n",
       "      <td>11</td>\n",
       "      <td>1938.262854</td>\n",
       "      <td>97.40</td>\n",
       "      <td>3230.450</td>\n",
       "      <td>835</td>\n",
       "    </tr>\n",
       "  </tbody>\n",
       "</table>\n",
       "</div>"
      ],
      "text/plain": [
       "            recency           frequency             monetary                   \\\n",
       "               mean  min  max      mean min max         mean    min       max   \n",
       "cluster                                                                         \n",
       "0         49.292542    1  151  2.102941   1   7   582.913178  10.95  2253.220   \n",
       "1        220.392857  127  313  1.544048   1   8   417.119621   3.75  2622.481   \n",
       "2         41.241916    1  270  6.011976   1  11  1938.262854  97.40  3230.450   \n",
       "\n",
       "               \n",
       "        count  \n",
       "cluster        \n",
       "0        1904  \n",
       "1         840  \n",
       "2         835  "
      ]
     },
     "execution_count": 41,
     "metadata": {},
     "output_type": "execute_result"
    }
   ],
   "source": [
    "rfm_k['cluster'] = clusters_scaled['cluster_pred']\n",
    "rfm_k['level'] = rfm['level']\n",
    "\n",
    "# recency, frequency, monetary의 평균값, 최솟값, 최댓값 구하기\n",
    "rfm_k.groupby('cluster').agg({\n",
    "    'recency' : ['mean','min','max'],\n",
    "    'frequency' : ['mean','min','max'],\n",
    "    'monetary' : ['mean','min','max','count']\n",
    "})"
   ]
  },
  {
   "cell_type": "markdown",
   "id": "01976416-de37-4892-a233-de083727472a",
   "metadata": {},
   "source": [
    "위 데이터에서 구매 최신성(recency) min이 가장 낮고, 구매 빈도(frequency) mean이 가장 많고, 구매 금액(monetary) max가 가장 큰 cluster가 매출 기여도가 높은 고객군이라고 해석할 수 있습니다. "
   ]
  },
  {
   "cell_type": "code",
   "execution_count": null,
   "id": "6884d26d-f8aa-484c-804c-1ea25a4b8b40",
   "metadata": {},
   "outputs": [],
   "source": []
  },
  {
   "cell_type": "code",
   "execution_count": null,
   "id": "2028d063-03a8-4ab2-ba1d-4b358a5d2aef",
   "metadata": {},
   "outputs": [],
   "source": []
  },
  {
   "cell_type": "code",
   "execution_count": null,
   "id": "83dd119e-5052-453c-b84d-9a939a11f1ba",
   "metadata": {},
   "outputs": [],
   "source": []
  },
  {
   "cell_type": "code",
   "execution_count": null,
   "id": "c864f8ad-c0e9-4cde-bf21-ab13103e9e00",
   "metadata": {},
   "outputs": [],
   "source": []
  },
  {
   "cell_type": "code",
   "execution_count": null,
   "id": "f084a594-2c24-4649-936f-4a128c756d7b",
   "metadata": {},
   "outputs": [],
   "source": []
  }
 ],
 "metadata": {
  "kernelspec": {
   "display_name": "Python 3 (ipykernel)",
   "language": "python",
   "name": "python3"
  },
  "language_info": {
   "codemirror_mode": {
    "name": "ipython",
    "version": 3
   },
   "file_extension": ".py",
   "mimetype": "text/x-python",
   "name": "python",
   "nbconvert_exporter": "python",
   "pygments_lexer": "ipython3",
   "version": "3.8.20"
  }
 },
 "nbformat": 4,
 "nbformat_minor": 5
}
